{
  "nbformat": 4,
  "nbformat_minor": 0,
  "metadata": {
    "colab": {
      "provenance": [],
      "authorship_tag": "ABX9TyON8vmGTtr3USNk89KMxXvB",
      "include_colab_link": true
    },
    "kernelspec": {
      "name": "python3",
      "display_name": "Python 3"
    },
    "language_info": {
      "name": "python"
    }
  },
  "cells": [
    {
      "cell_type": "markdown",
      "metadata": {
        "id": "view-in-github",
        "colab_type": "text"
      },
      "source": [
        "<a href=\"https://colab.research.google.com/github/aljosavister/azure/blob/main/Predavanje2.ipynb\" target=\"_parent\"><img src=\"https://colab.research.google.com/assets/colab-badge.svg\" alt=\"Open In Colab\"/></a>"
      ]
    },
    {
      "cell_type": "markdown",
      "source": [
        "**CSV**"
      ],
      "metadata": {
        "id": "ku_aiuCqOyMe"
      }
    },
    {
      "cell_type": "code",
      "execution_count": 5,
      "metadata": {
        "colab": {
          "base_uri": "https://localhost:8080/"
        },
        "collapsed": true,
        "id": "qPqcLH97LnFl",
        "outputId": "d7dba9f5-d30a-4552-9f49-27a6cfdbcfc6"
      },
      "outputs": [
        {
          "output_type": "stream",
          "name": "stdout",
          "text": [
            "['Breed', 'Country of Origin', 'Fur Color', 'Height (in)', 'Color of Eyes', 'Longevity (yrs)', 'Character Traits', 'Common Health Problems']\n",
            "['Labrador Retriever', 'Canada', 'Yellow, Black, Chocolate', '21-24', 'Brown', '10-12', 'Loyal, friendly, intelligent, energetic, good-natured', 'Hip dysplasia, obesity, ear infections']\n",
            "['German Shepherd', 'Germany', 'Black, Tan', '22-26', 'Brown', '7-10', 'Loyal, intelligent, protective, confident, trainable', 'Hip dysplasia, elbow dysplasia, pancreatitis']\n",
            "['Bulldog', 'England', 'White, Red', '12-16', 'Brown', '8-10', 'Loyal, calm, gentle, brave', 'Skin allergies, respiratory issues, obesity']\n",
            "['Poodle', 'France', 'White, Black, Brown, Apricot', '10-15', 'Brown, Blue', '12-15', 'Intelligent, active, affectionate, hypoallergenic', 'Hip dysplasia, epilepsy, bladder stones']\n",
            "['Beagle', 'England', 'White, Tan, Red, Lemon', '13-15', 'Brown', '12-15', 'Curious, friendly, energetic, good-natured', 'Ear infections, hip dysplasia, epilepsy']\n",
            "['Chihuahua', 'Mexico', 'Black, Brown, Tan, White', '6-9', 'Brown, Blue', '12-20', 'Loyal, energetic, confident, sensitive', 'Dental problems, eye issues, respiratory issues']\n",
            "['Boxer', 'Germany', 'Fawn, Brindle', '21-25', 'Brown', '10-12', 'Loyal, energetic, intelligent, playful, protective', 'Hip dysplasia, cancer, heart conditions']\n",
            "['Golden Retriever', 'Scotland', 'Golden', '21-24', 'Brown', '10-12', 'Intelligent, friendly, kind, loyal, good-natured', 'Hip dysplasia, cancer, skin allergies']\n",
            "['Pug', 'China', 'Fawn, Black', '10-14', 'Brown', '12-15', 'Loyal, playful, affectionate, social, charming', 'Eye problems, respiratory issues, obesity']\n",
            "['Rottweiler', 'Germany', 'Black, Tan', '22-27', 'Brown', '8-10', 'Loyal, protective, confident, strong', 'Hip dysplasia, cancer, elbow dysplasia']\n",
            "['Siberian Husky', 'Russia', 'Black, White', '21-24', 'Blue', '12-15', 'Independent, energetic, intelligent, playful, strong', 'Hip dysplasia, eye problems, hereditary myopathy']\n",
            "['Dachshund', 'Germany', 'Black, Tan', '5-9', 'Brown, Blue', '12-15', 'Loyal, energetic, playful, curious', 'Intervertebral disc disease, hip dysplasia, diabetes']\n",
            "['Shih Tzu', 'China', 'Black, White, Brown', '9-10', 'Brown', '10-16', 'Affectionate, playful, confident, good-natured', 'Dental problems, respiratory issues, eye problems']\n",
            "['Bichon Frise', 'France', 'White', '9-11', 'Brown', '12-15', 'Playful, affectionate, intelligent, social', 'Dental problems, eye problems, bladder stones']\n",
            "['Australian Shepherd', 'Australia', 'Black, Red', '18-23', 'Brown, Blue', '12-15', 'Intelligent, energetic, loyal, trainable', 'Hip dysplasia, eye problems, epilepsy']\n",
            "['Basset Hound', 'France', 'Black, Tan', '11-15', 'Brown', '10-12', 'Affectionate, patient, gentle, good-natured', 'Dental problems, ear infections, obesity']\n",
            "['Cocker Spaniel', 'England', 'Black, Brown', '14-15', 'Brown', '12-15', 'Affectionate, intelligent, energetic, good-natured', 'Ear infections, hip dysplasia, eye problems']\n",
            "['French Bulldog', 'France', 'White, Black, Brindle', '11-12', 'Brown', '10-12', 'Affectionate, playful, good-natured', 'Breathing problems, eye problems, hip dysplasia']\n",
            "['Pomeranian', 'Germany', 'Orange, Sable, Black', '6-7', 'Brown', '12-16', 'Playful, energetic, intelligent, good-natured', 'Dental problems, eye problems, obesity']\n",
            "['Great Dane', 'Germany', 'Black, Blue, Fawn, Harlequin', '28-34', 'Brown', '8-10', 'Gentle, loyal, intelligent, good-natured', 'Hip dysplasia, cancer, heart conditions']\n",
            "['Mastiff', 'England', 'Apricot, Fawn', '30-34', 'Brown', '8-10', 'Loyal, gentle, protective, good-natured', 'Hip dysplasia, heart conditions, cancer']\n",
            "['Newfoundland', 'Canada', 'Black, Brown, Grey', '26-28', 'Brown', '9-11', 'Loyal, intelligent, gentle, good-natured', 'Hip dysplasia, heart conditions, cancer']\n",
            "['Saint Bernard', 'Switzerland', 'Red, White', '26-30', 'Brown', '8-10', 'Loyal, intelligent, gentle, protective', 'Hip dysplasia, cancer, heart conditions']\n",
            "['Old English Sheepdog', 'England', 'Blue, Grey', '22-26', 'Brown', '10-12', 'Gentle, intelligent, good-natured, protective', 'Hip dysplasia, eye problems, skin allergies']\n",
            "['Irish Wolfhound', 'Ireland', 'Grey, Red, Black', '30-35', 'Brown', '6-8', 'Gentle, loyal, intelligent, good-natured', 'Hip dysplasia, heart conditions, cancer']\n",
            "['Greyhound', 'England', 'Black, White, Brindle', '26-30', 'Brown', '10-12', 'Intelligent, athletic, sensitive, good-natured', 'Hip dysplasia, eye problems, heart conditions']\n",
            "['Scottish Deerhound', 'Scotland', 'Blue, Grey', '28-32', 'Brown', '8-10', 'Gentle, intelligent, good-natured, independent', 'Hip dysplasia, heart conditions, cancer']\n",
            "['Great Pyrenees', 'France', 'White', '25-32', 'Brown', '10-12', 'Loyal, intelligent, gentle, protective', 'Hip dysplasia, cancer, skin allergies']\n",
            "['Shar Pei', 'China', 'Cream, Fawn', '18-20', 'Brown', '8-12', 'Independent, loyal, intelligent, good-natured', 'Skin allergies, eye problems, hip dysplasia']\n",
            "['Doberman Pinscher', 'Germany', 'Black, Red', '24-28', 'Brown', '10-12', 'Loyal, energetic, intelligent, protective', 'Hip dysplasia, heart conditions, cancer']\n",
            "['Weimaraner', 'Germany', 'Silver, Grey', '25-29', 'Blue, Grey', '10-12', 'Energetic, intelligent, good-natured, loyal', 'Hip dysplasia, eye problems, cancer']\n",
            "['Belgian Malinois', 'Belgium', 'Fawn, Mahogany', '22-26', 'Brown', '12-14', 'Intelligent, energetic, loyal, protective', 'Hip dysplasia, eye problems, skin allergies']\n",
            "['Rhodesian Ridgeback', 'Rhodesia', 'Light Wheaten', '25-27', 'Brown', '10-12', 'Intelligent, athletic, loyal, good-natured', 'Hip dysplasia, eye problems, cancer']\n",
            "['English Setter', 'England', 'Black, White, Liver', '23-27', 'Brown', '12-15', 'Intelligent, energetic, affectionate, good-natured', 'Hip dysplasia, eye problems, cancer']\n",
            "['Pointer', 'England', 'Black, White, Liver', '21-27', 'Brown', '12-15', 'Intelligent, energetic, good-natured, affectionate', 'Hip dysplasia, eye problems, cancer']\n",
            "['Gordon Setter', 'Scotland', 'Black, Tan', '23-27', 'Brown', '12-15', 'Intelligent, energetic, good-natured, affectionate', 'Hip dysplasia, eye problems, cancer']\n",
            "['Irish Setter', 'Ireland', 'Red', '24-28', 'Brown', '12-15', 'Intelligent, energetic, good-natured, affectionate', 'Hip dysplasia, eye problems, cancer']\n",
            "['Papillon', 'France', 'White, Black, Sable, Red', '8-11', 'Brown', '14-16', 'Intelligent, energetic, affectionate, good-natured', 'Dental problems, eye problems, bladder stones']\n",
            "['Pekingese', 'China', 'Black, White, Red', '6-9', 'Brown', '12-15', 'Independent, intelligent, affectionate, good-natured', 'Dental problems, respiratory issues, eye problems']\n",
            "['Toy Poodle', 'France', 'White, Black, Brown, Apricot', '10-11', 'Brown, Blue', '12-15', 'Intelligent, active, affectionate, hypoallergenic', 'Hip dysplasia, epilepsy, bladder stones']\n",
            "['Miniature Poodle', 'France', 'White, Black, Brown, Apricot', '10-15', 'Brown, Blue', '12-15', 'Intelligent, active, affectionate, hypoallergenic', 'Hip dysplasia, epilepsy, bladder stones']\n",
            "['Standard Poodle', 'France', 'White, Black, Brown, Apricot', '15-22', 'Brown, Blue', '12-15', 'Intelligent, active, affectionate, hypoallergenic', 'Hip dysplasia, epilepsy, bladder stones']\n",
            "['Affenpinscher', 'Germany', 'Black, Brown, Red', '9-11', 'Brown', '12-15', 'Intelligent, energetic, playful, good-natured', 'Dental problems, eye problems, skin allergies']\n",
            "['Boston Terrier', 'United States', 'Black, White', '15-17', 'Brown', '11-13', 'Intelligent, energetic, affectionate, good-natured', 'Eye problems, respiratory issues, skin allergies']\n",
            "['Brussels Griffon', 'Belgium', 'Black, Red', '7-10', 'Brown', '12-15', 'Intelligent, energetic, affectionate, good-natured', 'Dental problems, eye problems, respiratory issues']\n",
            "['Cairn Terrier', 'Scotland', 'Black, Wheaten, Red', '10-12', 'Brown', '12-15', 'Intelligent, energetic, playful, good-natured', 'Dental problems, eye problems, skin allergies']\n",
            "['Chinese Crested', 'China', 'Pink, White, Black', '11-13', 'Brown', '13-18', 'Intelligent, energetic, affectionate, good-natured', 'Dental problems, eye problems, skin allergies']\n",
            "['Miniature Schnauzer', 'Germany', 'Black, Salt & Pepper, White', '12-14', 'Brown', '12-15', 'Intelligent, energetic, playful, good-natured', 'Dental problems, pancreatitis, diabetes']\n",
            "['Standard Schnauzer', 'Germany', 'Black, Salt & Pepper', '18-20', 'Brown', '12-15', 'Intelligent, energetic, playful, good-natured', 'Dental problems, pancreatitis, diabetes']\n",
            "['West Highland White Terrier', 'Scotland', 'White', '11-12', 'Brown', '12-16', 'Intelligent, energetic, playful, good-natured', 'Dental problems, skin allergies, hip dysplasia']\n",
            "['Australian Terrier', 'Australia', 'Red, Black & Tan', '10-11', 'Brown', '12-15', 'Intelligent, energetic, playful, good-natured', 'Dental problems, skin allergies, hip dysplasia']\n",
            "['Border Terrier', 'England', 'Red, Wheaten, Black', '10-16', 'Brown', '12-16', 'Intelligent, energetic, playful, good-natured', 'Dental problems, skin allergies, hip dysplasia']\n",
            "['Coton de Tulear', 'Madagascar', 'White', '9-11', 'Brown', '12-14', 'Intelligent, energetic, playful, good-natured', 'Dental problems, skin allergies, hip dysplasia']\n",
            "['English Toy Spaniel', 'England', 'White, Blenheim', '10-12', 'Brown', '12-14', 'Intelligent, energetic, playful, good-natured', 'Dental problems, skin allergies, hip dysplasia']\n",
            "['Australian Stumpy Tail Cattle Dog', 'Australia', 'Red, Black', '17-20', 'Brown', '12-14', 'Intelligent, energetic, good-natured, loyal', 'Dental problems, eye issues, skin allergies']\n",
            "['Pug', 'China', 'Black, Fawn', '10-14', 'Brown', '12-15', 'Intelligent, energetic, playful, good-natured', 'Dental problems, respiratory issues, eye problems']\n",
            "['American Eskimo Dog', 'United States', 'White', '15-19', 'Brown', '12-15', 'Intelligent, energetic, playful, good-natured', 'Dental problems, skin allergies, hip dysplasia']\n",
            "['Australian Cattle Dog', 'Australia', 'Blue, Red', '17-20', 'Brown', '12-16', 'Intelligent, energetic, playful, good-natured', 'Dental problems, skin allergies, hip dysplasia']\n",
            "['Basset Hound', 'France', 'Black, White, Red', '11-15', 'Brown', '10-12', 'Gentle, good-natured, loyal, intelligent', 'Dental problems, eye issues, skin allergies']\n",
            "['Australian Kelpie', 'Australia', 'Red, Black', '17-20', 'Brown', '12-14', 'Intelligent, energetic, good-natured, loyal', 'Dental problems, eye issues, skin allergies']\n",
            "['Bloodhound', 'England', 'Red, Black', '22-27', 'Brown', '10-12', 'Loyal, intelligent, good-natured, energetic', 'Dental problems, eye issues, skin allergies']\n",
            "['Border Collie', 'England', 'Black, White, Red', '18-22', 'Brown', '12-15', 'Intelligent, energetic, playful, good-natured', 'Dental problems, eye issues, skin allergies']\n",
            "['Australian Shepherd', 'Australia', 'Blue Merle', '20-23', 'Brown', '12-14', 'Intelligent, energetic, good-natured, loyal', 'Dental problems, eye issues, skin allergies']\n",
            "['American Bulldog', 'United States', 'White, Red', '20-28', 'Brown', '10-12', 'Loyal, intelligent, good-natured, energetic', 'Dental problems, eye issues, skin allergies']\n",
            "['Australian Shepherd', 'Australia', 'Black, Red', '18-23', 'Brown', '12-15', 'Intelligent, energetic, playful, good-natured', 'Dental problems, skin allergies, hip dysplasia']\n",
            "['Borzoi', 'Russia', 'White, Cream, Red', '26-29', 'Brown', '10-12', 'Gentle, good-natured, loyal, intelligent', 'Dental problems, eye issues, skin allergies']\n",
            "['Bull Terrier', 'England', 'White, Red', '20-22', 'Brown', '10-12', 'Loyal, intelligent, good-natured, energetic', 'Dental problems, eye issues, skin allergies']\n",
            "['Cane Corso', 'Italy', 'Black, Red', '22-28', 'Brown', '10-12', 'Loyal, intelligent, good-natured, energetic', 'Dental problems, eye issues, skin allergies']\n",
            "['Cardigan Welsh Corgi', 'Wales', 'Red, Sable, Black', '10-12', 'Brown', '12-14', 'Intelligent, energetic, playful, good-natured', 'Dental problems, eye issues, skin allergies']\n",
            "['Chesapeake Bay Retriever', 'United States', 'Brown, Tan', '21-26', 'Brown', '12-14', 'Intelligent, energetic, playful, good-natured', 'Dental problems, eye issues, skin allergies']\n",
            "['Saluki', 'Middle East', 'Cream, Red', '23-28', 'Brown', '12-14', 'Intelligent, energetic, good-natured, loyal', 'Dental problems, eye issues, skin allergies']\n",
            "['English Setter', 'England', 'Liver, Blue', '25-27', 'Brown', '12-14', 'Intelligent, energetic, playful, good-natured', 'Dental problems, eye issues, skin allergies']\n",
            "['English Springer Spaniel', 'England', 'Black, White, Liver', '20-24', 'Brown', '12-14', 'Intelligent, energetic, playful, good-natured', 'Dental problems, eye issues, skin allergies']\n",
            "['Field Spaniel', 'England', 'Black, Liver', '15-18', 'Brown', '12-14', 'Intelligent, energetic, playful, good-natured', 'Dental problems, eye issues, skin allergies']\n",
            "['Finnish Spitz', 'Finland', 'Red, Golden', '15-20', 'Brown', '12-15', 'Intelligent, energetic, playful, good-natured', 'Dental problems, eye issues, skin allergies']\n",
            "['Flat-Coated Retriever', 'England', 'Black, Liver', '22-25', 'Brown', '12-14', 'Intelligent, energetic, playful, good-natured', 'Dental problems, eye issues, skin allergies']\n",
            "['Australian Terrier', 'Australia', 'Red', '10-11', 'Brown', '12-15', 'Intelligent, energetic, playful, good-natured', 'Dental problems, eye issues, skin allergies']\n",
            "['Giant Schnauzer', 'Germany', 'Black, Salt & Pepper', '25-28', 'Brown', '10-12', 'Loyal, intelligent, good-natured, energetic', 'Dental problems, eye issues, skin allergies']\n",
            "['Golden Retriever', 'Scotland', 'Gold', '21-24', 'Brown', '12-14', 'Intelligent, energetic, playful, good-natured', 'Dental problems, eye issues, skin allergies']\n",
            "['Gordon Setter', 'Scotland', 'Black, Tan', '24-27', 'Brown', '12-14', 'Intelligent, energetic, playful, good-natured', 'Dental problems, eye issues, skin allergies']\n",
            "['Australian Cattle Dog', 'Australia', 'Blue, Red', '17-20', 'Brown', '12-14', 'Intelligent, energetic, good-natured, loyal', 'Dental problems, eye issues, skin allergies']\n",
            "['Greyhound', 'England', 'White, Black, Red', '26-30', 'Brown', '10-12', 'Intelligent, energetic, good-natured, loyal', 'Dental problems, eye issues, skin allergies']\n",
            "['Harrier', 'England', 'Red, Black & Tan', '18-21', 'Brown', '12-14', 'Intelligent, energetic, playful, good-natured', 'Dental problems, eye issues, skin allergies']\n",
            "['Irish Setter', 'Ireland', 'Red', '26-28', 'Brown', '12-14', 'Intelligent, energetic, playful, good-natured', 'Dental problems, eye issues, skin allergies']\n",
            "['Irish Terrier', 'Ireland', 'Red', '14-16', 'Brown', '12-14', 'Intelligent, energetic, playful, good-natured', 'Dental problems, eye issues, skin allergies']\n",
            "['Irish Water Spaniel', 'Ireland', 'Brown', '21-24', 'Brown', '12-14', 'Intelligent, energetic, playful, good-natured', 'Dental problems, eye issues, skin allergies']\n",
            "['Irish Wolfhound', 'Ireland', 'Grey, Red', '30-35', 'Brown', '6-10', 'Loyal, intelligent, good-natured, energetic', 'Dental problems, eye issues, skin allergies']\n",
            "['Italian Greyhound', 'Italy', 'Red, Black', '13-15', 'Brown', '12-15', 'Intelligent, energetic, playful, good-natured', 'Dental problems, eye issues, skin allergies']\n",
            "['Jack Russell Terrier', 'England', 'White, Black & Tan', '10-12', 'Brown', '12-15', 'Intelligent, energetic, playful, good-natured', 'Dental problems, eye issues, skin allergies']\n",
            "['Japanese Chin', 'Japan', 'Black, Red', '7-11', 'Brown', '12-15', 'Intelligent, energetic, playful, good-natured', 'Dental problems, eye issues, skin allergies']\n",
            "['Keeshond', 'Netherlands', 'Black, Cream', '17-19', 'Brown', '12-15', 'Intelligent, energetic, playful, good-natured', 'Dental problems, eye issues, skin allergies']\n",
            "['Kerry Blue Terrier', 'Ireland', 'Blue', '17-19', 'Brown', '12-14', 'Intelligent, energetic, playful, good-natured', 'Dental problems, eye issues, skin allergies']\n",
            "['Kuvasz', 'Hungary', 'White', '25-29', 'Brown', '10-12', 'Loyal, intelligent, good-natured, energetic', 'Dental problems, eye issues, skin allergies']\n",
            "['Lhasa Apso', 'Tibet', 'Black, White', '10-11', 'Brown', '12-15', 'Intelligent, energetic, playful, good-natured', 'Dental problems, eye issues, skin allergies']\n",
            "['Maltese', 'Malta', 'White', '8-10', 'Brown', '12-15', 'Intelligent, energetic, playful, good-natured', 'Dental problems, eye issues, skin allergies']\n",
            "['Miniature Pinscher', 'Germany', 'Red, Stag Red', '10-12', 'Brown', '12-14', 'Intelligent, energetic, playful, good-natured', 'Dental problems, eye issues, skin allergies']\n",
            "['Samoyed', 'Russia', 'White', '21-23', 'Brown', '12-14', 'Intelligent, energetic, playful, good-natured', 'Dental problems, eye issues, skin allergies']\n",
            "['Shetland Sheepdog', 'Scotland', 'Sable, Black', '13-16', 'Brown', '12-14', 'Intelligent, energetic, playful, good-natured', 'Dental problems, eye issues, skin allergies']\n",
            "['Staffordshire Bull Terrier', 'England', 'White, Black, Red', '14-16', 'Brown', '12-14', 'Intelligent, energetic, playful, good-natured', 'Dental problems, eye issues, skin allergies']\n",
            "['Vizsla', 'Hungary', 'Red', '20-24', 'Brown', '12-14', 'Intelligent, energetic, playful, good-natured', 'Dental problems, eye issues, skin allergies']\n",
            "['Anatolian Shepherd', 'Turkey', 'Fawn', '27-29', 'Brown', '12-14', 'Loyal, intelligent, good-natured, energetic', 'Dental problems, eye issues, skin allergies']\n",
            "['Welsh Corgi', 'Wales', 'Red, Sable', '10-12', 'Brown', '12-15', 'Intelligent, energetic, playful, good-natured', 'Dental problems, eye issues, skin allergies']\n",
            "['Welsh Springer Spaniel', 'Wales', 'Liver, White', '20-25', 'Brown', '12-14', 'Intelligent, energetic, playful, good-natured', 'Dental problems, eye issues, skin allergies']\n",
            "['Welsh Terrier', 'Wales', 'Black, Tan', '10-12', 'Brown', '12-15', 'Intelligent, energetic, playful, good-natured', 'Dental problems, eye issues, skin allergies']\n",
            "['West Highland White Terrier', 'Scotland', 'White', '10-12', 'Brown', '12-15', 'Intelligent, energetic, playful, good-natured', 'Dental problems, eye issues, skin allergies']\n",
            "['Whippet', 'England', 'White, Black, Red', '18-22', 'Brown', '12-15', 'Intelligent, energetic, good-natured, loyal', 'Dental problems, eye issues, skin allergies']\n",
            "['Wirehaired Pointing Griffon', 'Belgium', 'Brown, White', '21-24', 'Brown', '12-14', 'Intelligent, energetic, playful, good-natured', 'Dental problems, eye issues, skin allergies']\n",
            "['Xoloitzcuintli', 'Mexico', 'Black, Red', '10-14', 'Brown', '12-15', 'Intelligent, energetic, playful, good-natured', 'Dental problems, eye issues, skin allergies']\n",
            "['Yorkshire Terrier', 'England', 'Blue & Tan', '7-8', 'Brown', '12-15', 'Intelligent, energetic, playful, good-natured', 'Dental problems, eye issues, skin allergies']\n",
            "['Akita', 'Japan', 'Red, Fawn, Sesame', '24-28', 'Brown', '10-12', 'Loyal, intelligent, good-natured, energetic', 'Dental problems, eye issues, skin allergies']\n",
            "['Africanis', 'Africa', 'Brown, Red', '22-25', 'Brown', '12-15', 'Intelligent, energetic, good-natured, loyal', 'Dental problems, eye issues, skin allergies']\n",
            "['Basenji', 'Congo', 'Red, Black & White', '16-17', 'Brown', '12-15', 'Intelligent, energetic, playful, good-natured', 'Dental problems, eye issues, skin allergies']\n",
            "['Catahoula Leopard Dog', 'United States', 'Merle, Black', '20-26', 'Brown', '12-14', 'Intelligent, energetic, good-natured, loyal', 'Dental problems, eye issues, skin allergies']\n",
            "['Cocker Spaniel', 'England', 'Black, Brown', '14-15', 'Brown', '12-15', 'Intelligent, energetic, playful, good-natured', 'Dental problems, eye issues, skin allergies']\n",
            "['Miniature Shiba Inu', 'Japan', 'Red, Sesame', '13-16', 'Brown', '12-15', 'Intelligent, energetic, playful, good-natured', 'Dental problems, eye issues, skin allergies']\n",
            "['Belgian Tervuren', 'Belgium', 'Fawn', '22-26', 'Brown', '12-14', 'Intelligent, energetic, good-natured, loyal', 'Dental problems, eye issues, skin allergies']\n",
            "['Pharaoh Hound', 'Malta', 'Red', '21-25', 'Brown', '12-14', 'Intelligent, energetic, good-natured, loyal', 'Dental problems, eye issues, skin allergies']\n"
          ]
        }
      ],
      "source": [
        "# Preberi datoteko doc_breeds.csv in izpisimo vse barve kozuhov\n",
        "import csv\n",
        "\n",
        "with open('dog_breeds.csv') as datoteka:\n",
        "    vsebina = csv.reader(datoteka)\n",
        "    for vrstica in vsebina:\n",
        "        print(vrstica)\n",
        "\n",
        "\n",
        "# csv.DictReader('/content/dog_breeds.csv')\n"
      ]
    },
    {
      "cell_type": "code",
      "source": [
        "# Preberi datoteko doc_breeds.csv in izpisimo vse barve kozuhov\n",
        "import csv\n",
        "\n",
        "with open('dog_breeds.csv') as datoteka:\n",
        "    vsebina = csv.DictReader(datoteka)\n",
        "    barve = set() # Mnozica vseh barv\n",
        "    for vrstica in vsebina:\n",
        "        barve |= set(print(vrstica['Fur Color']).split(','))\n",
        "barve"
      ],
      "metadata": {
        "colab": {
          "base_uri": "https://localhost:8080/",
          "height": 207
        },
        "id": "CsZAznQKNgrO",
        "outputId": "538d4f04-5618-41e9-92eb-437606486108"
      },
      "execution_count": 10,
      "outputs": [
        {
          "output_type": "stream",
          "name": "stdout",
          "text": [
            "Yellow, Black, Chocolate\n"
          ]
        },
        {
          "output_type": "error",
          "ename": "AttributeError",
          "evalue": "'NoneType' object has no attribute 'split'",
          "traceback": [
            "\u001b[0;31m---------------------------------------------------------------------------\u001b[0m",
            "\u001b[0;31mAttributeError\u001b[0m                            Traceback (most recent call last)",
            "\u001b[0;32m<ipython-input-10-ca989c925645>\u001b[0m in \u001b[0;36m<cell line: 0>\u001b[0;34m()\u001b[0m\n\u001b[1;32m      6\u001b[0m     \u001b[0mbarve\u001b[0m \u001b[0;34m=\u001b[0m \u001b[0mset\u001b[0m\u001b[0;34m(\u001b[0m\u001b[0;34m)\u001b[0m \u001b[0;31m# Mnozica vseh barv\u001b[0m\u001b[0;34m\u001b[0m\u001b[0;34m\u001b[0m\u001b[0m\n\u001b[1;32m      7\u001b[0m     \u001b[0;32mfor\u001b[0m \u001b[0mvrstica\u001b[0m \u001b[0;32min\u001b[0m \u001b[0mvsebina\u001b[0m\u001b[0;34m:\u001b[0m\u001b[0;34m\u001b[0m\u001b[0;34m\u001b[0m\u001b[0m\n\u001b[0;32m----> 8\u001b[0;31m         \u001b[0mbarve\u001b[0m \u001b[0;34m|=\u001b[0m \u001b[0mset\u001b[0m\u001b[0;34m(\u001b[0m\u001b[0mprint\u001b[0m\u001b[0;34m(\u001b[0m\u001b[0mvrstica\u001b[0m\u001b[0;34m[\u001b[0m\u001b[0;34m'Fur Color'\u001b[0m\u001b[0;34m]\u001b[0m\u001b[0;34m)\u001b[0m\u001b[0;34m.\u001b[0m\u001b[0msplit\u001b[0m\u001b[0;34m(\u001b[0m\u001b[0;34m','\u001b[0m\u001b[0;34m)\u001b[0m\u001b[0;34m)\u001b[0m\u001b[0;34m\u001b[0m\u001b[0;34m\u001b[0m\u001b[0m\n\u001b[0m\u001b[1;32m      9\u001b[0m \u001b[0mbarve\u001b[0m\u001b[0;34m\u001b[0m\u001b[0;34m\u001b[0m\u001b[0m\n",
            "\u001b[0;31mAttributeError\u001b[0m: 'NoneType' object has no attribute 'split'"
          ]
        }
      ]
    },
    {
      "cell_type": "markdown",
      "source": [],
      "metadata": {
        "id": "mmb_2sBCOv3B"
      }
    },
    {
      "cell_type": "markdown",
      "source": [
        "Knjznica za risanje grafov: MapPlotLib\n"
      ],
      "metadata": {
        "id": "TjIccbNIO0PN"
      }
    },
    {
      "cell_type": "code",
      "source": [
        "import matplotlib.pyplot as plt\n",
        "import numpy as np\n",
        "\n",
        "from matplotlib import cm\n",
        "\n",
        "plt.style.use('_mpl-gallery')\n",
        "\n",
        "# Make data\n",
        "X = np.arange(-5, 5, 0.25)\n",
        "Y = np.arange(-5, 5, 0.25)\n",
        "X, Y = np.meshgrid(X, Y)\n",
        "R = np.sqrt(X**2 + Y**2)\n",
        "Z = np.sin(R)\n",
        "\n",
        "# Plot the surface\n",
        "fig, ax = plt.subplots(subplot_kw={\"projection\": \"3d\"})\n",
        "ax.plot_surface(X, Y, Z, vmin=Z.min() * 2, cmap=cm.Blues)\n",
        "\n",
        "ax.set(xticklabels=[],\n",
        "       yticklabels=[],\n",
        "       zticklabels=[])\n",
        "\n",
        "plt.show()"
      ],
      "metadata": {
        "colab": {
          "base_uri": "https://localhost:8080/",
          "height": 242
        },
        "id": "vkcivk5NO85f",
        "outputId": "bdcc193a-fae6-4f99-b260-2f50da5c7c80"
      },
      "execution_count": 11,
      "outputs": [
        {
          "output_type": "display_data",
          "data": {
            "text/plain": [
              "<Figure size 200x200 with 1 Axes>"
            ],
            "image/png": "[encoded data removed]"
          },
          "metadata": {}
        }
      ]
    },
    {
      "cell_type": "code",
      "source": [
        "# Narisi premico y=x na intervalu od -3 do 3\n",
        "\n",
        "import matplotlib.pyplot as plt\n",
        "\n",
        "plt.plot(range(-3,3), range(-3,3))\n",
        "plt.title('Linijski grafikon')\n",
        "plt.xlabel('X os')\n",
        "plt.ylabel('Y os')\n",
        "plt.show()\n",
        "\n"
      ],
      "metadata": {
        "colab": {
          "base_uri": "https://localhost:8080/",
          "height": 293
        },
        "id": "ex5D9736Pl7W",
        "outputId": "76000f61-31e5-4805-8003-91f20b0eb736"
      },
      "execution_count": 18,
      "outputs": [
        {
          "output_type": "display_data",
          "data": {
            "text/plain": [
              "<Figure size 200x200 with 1 Axes>"
            ],
            "image/png": "[encoded data removed]"
          },
          "metadata": {}
        }
      ]
    },
    {
      "cell_type": "code",
      "source": [
        "# Stolpcni grafikon\n",
        "import matplotlib.pyplot as plt\n",
        "\n",
        "# Slovar\n",
        "anketa = {'C#': 15, 'Python': 19, 'Java': 10, 'Pascal': 7}\n",
        "anketa.keys()\n",
        "plt.bar(anketa.keys(), anketa.values(), color='green')"
      ],
      "metadata": {
        "colab": {
          "base_uri": "https://localhost:8080/",
          "height": 268
        },
        "id": "FBXZoqmxQtbI",
        "outputId": "30729d65-533a-4d31-afb3-15d0b5ee3693"
      },
      "execution_count": 20,
      "outputs": [
        {
          "output_type": "execute_result",
          "data": {
            "text/plain": [
              "<BarContainer object of 4 artists>"
            ]
          },
          "metadata": {},
          "execution_count": 20
        },
        {
          "output_type": "display_data",
          "data": {
            "text/plain": [
              "<Figure size 200x200 with 1 Axes>"
            ],
            "image/png": "[encoded data removed]"
          },
          "metadata": {}
        }
      ]
    },
    {
      "cell_type": "code",
      "source": [
        "# Narisimo sinus in cosinus na intervalu od 0 do 2 * pi\n",
        "import math\n",
        "import matplotlib.pyplot as plt\n",
        "\n",
        "n = 100\n",
        "os_x = [i/n * 2 * math.pi for i in range(0,n)]\n",
        "sin_x = [math.sin(x) for x in os_x]\n",
        "cos_x = [math.cos(x) for x in os_x]\n",
        "print(os_x)\n",
        "print(sin_y)\n",
        "\n",
        "plt.plot(os_x, sin_x)\n",
        "plt.plot(os_x, cos_x, color='orange')\n",
        "\n",
        "# Shranjevanje slike\n",
        "plt.savefig('sunusoid.jpg')\n",
        "\n",
        "\n",
        "plt.show()"
      ],
      "metadata": {
        "colab": {
          "base_uri": "https://localhost:8080/",
          "height": 305
        },
        "id": "gl7wpzpdRb5O",
        "outputId": "1774c5da-194e-464f-9bfd-c74922ae7a20"
      },
      "execution_count": 34,
      "outputs": [
        {
          "output_type": "stream",
          "name": "stdout",
          "text": [
            "[0.0, 0.06283185307179587, 0.12566370614359174, 0.18849555921538758, 0.25132741228718347, 0.3141592653589793, 0.37699111843077515, 0.4398229715025711, 0.5026548245743669, 0.5654866776461628, 0.6283185307179586, 0.6911503837897545, 0.7539822368615503, 0.8168140899333463, 0.8796459430051422, 0.9424777960769379, 1.0053096491487339, 1.0681415022205298, 1.1309733552923256, 1.1938052083641213, 1.2566370614359172, 1.319468914507713, 1.382300767579509, 1.4451326206513049, 1.5079644737231006, 1.5707963267948966, 1.6336281798666925, 1.6964600329384885, 1.7592918860102844, 1.82212373908208, 1.8849555921538759, 1.9477874452256718, 2.0106192982974678, 2.0734511513692637, 2.1362830044410597, 2.199114857512855, 2.261946710584651, 2.324778563656447, 2.3876104167282426, 2.4504422698000385, 2.5132741228718345, 2.57610597594363, 2.638937829015426, 2.701769682087222, 2.764601535159018, 2.827433388230814, 2.8902652413026098, 2.9530970943744053, 3.015928947446201, 3.078760800517997, 3.141592653589793, 3.204424506661589, 3.267256359733385, 3.330088212805181, 3.392920065876977, 3.455751918948773, 3.518583772020569, 3.581415625092364, 3.64424747816416, 3.707079331235956, 3.7699111843077517, 3.8327430373795477, 3.8955748904513436, 3.958406743523139, 4.0212385965949355, 4.084070449666731, 4.1469023027385274, 4.209734155810323, 4.272566008882119, 4.335397861953914, 4.39822971502571, 4.461061568097506, 4.523893421169302, 4.586725274241098, 4.649557127312894, 4.71238898038469, 4.775220833456485, 4.838052686528282, 4.900884539600077, 4.9637163926718735, 5.026548245743669, 5.089380098815465, 5.15221195188726, 5.215043804959056, 5.277875658030852, 5.340707511102648, 5.403539364174444, 5.46637121724624, 5.529203070318036, 5.592034923389832, 5.654866776461628, 5.717698629533424, 5.7805304826052195, 5.843362335677016, 5.9061941887488105, 5.969026041820607, 6.031857894892402, 6.094689747964199, 6.157521601035994, 6.220353454107791]\n",
            "[0.0, 0.06279051952931337, 0.12533323356430426, 0.1873813145857246, 0.2486898871648548, 0.3090169943749474, 0.3681245526846779, 0.4257792915650727, 0.4817536741017153, 0.5358267949789967, 0.5877852522924731, 0.6374239897486896, 0.6845471059286886, 0.7289686274214116, 0.7705132427757893, 0.8090169943749475, 0.8443279255020151, 0.8763066800438637, 0.9048270524660196, 0.9297764858882513, 0.9510565162951535, 0.9685831611286311, 0.9822872507286886, 0.9921147013144779, 0.9980267284282716, 1.0, 0.9980267284282716, 0.9921147013144778, 0.9822872507286886, 0.9685831611286312, 0.9510565162951536, 0.9297764858882513, 0.9048270524660195, 0.8763066800438635, 0.844327925502015, 0.8090169943749475, 0.7705132427757893, 0.7289686274214114, 0.6845471059286888, 0.6374239897486899, 0.5877852522924732, 0.535826794978997, 0.4817536741017156, 0.4257792915650729, 0.36812455268467814, 0.3090169943749475, 0.24868988716485482, 0.18738131458572502, 0.12533323356430454, 0.06279051952931358, 1.2246467991473532e-16, -0.06279051952931335, -0.12533323356430429, -0.18738131458572477, -0.24868988716485502, -0.30901699437494773, -0.3681245526846783, -0.42577929156507227, -0.481753674101715, -0.5358267949789964, -0.587785252292473, -0.6374239897486896, -0.6845471059286887, -0.7289686274214113, -0.7705132427757894, -0.8090169943749473, -0.8443279255020153, -0.8763066800438636, -0.9048270524660198, -0.9297764858882511, -0.9510565162951535, -0.968583161128631, -0.9822872507286887, -0.9921147013144778, -0.9980267284282716, -1.0, -0.9980267284282716, -0.9921147013144779, -0.9822872507286887, -0.9685831611286311, -0.9510565162951536, -0.9297764858882512, -0.9048270524660199, -0.8763066800438638, -0.8443279255020155, -0.8090169943749476, -0.7705132427757896, -0.7289686274214116, -0.684547105928689, -0.6374239897486896, -0.5877852522924734, -0.5358267949789963, -0.4817536741017153, -0.4257792915650722, -0.3681245526846787, -0.3090169943749476, -0.24868988716485535, -0.18738131458572468, -0.12533323356430465, -0.06279051952931326]\n"
          ]
        },
        {
          "output_type": "display_data",
          "data": {
            "text/plain": [
              "<Figure size 200x200 with 1 Axes>"
            ],
            "image/png": "[encoded data removed]"
          },
          "metadata": {}
        }
      ]
    },
    {
      "cell_type": "markdown",
      "source": [
        "**Matematicna knjiznica numpy**"
      ],
      "metadata": {
        "id": "4lSS_YKhTppD"
      }
    },
    {
      "cell_type": "code",
      "source": [
        "import math\n",
        "import numpy as np\n",
        "\n",
        "print(math.pi)\n",
        "print(np.pi)"
      ],
      "metadata": {
        "colab": {
          "base_uri": "https://localhost:8080/"
        },
        "id": "H0GnytQ4Twh2",
        "outputId": "46f783ac-c8a1-4b26-95a1-7bfbc7ce17c7"
      },
      "execution_count": 36,
      "outputs": [
        {
          "output_type": "stream",
          "name": "stdout",
          "text": [
            "3.141592653589793\n",
            "3.141592653589793\n"
          ]
        }
      ]
    },
    {
      "cell_type": "code",
      "source": [
        "# Podatkovni tip ndarray\n",
        "x = [2,5,7,3,4]\n",
        "y = [1,3,5,7,9]\n",
        "print(x,y)"
      ],
      "metadata": {
        "colab": {
          "base_uri": "https://localhost:8080/"
        },
        "id": "Aka-Wy6XUWu4",
        "outputId": "029b015b-3546-4061-dfbe-ad28de167b0e"
      },
      "execution_count": 37,
      "outputs": [
        {
          "output_type": "stream",
          "name": "stdout",
          "text": [
            "[2, 5, 7, 3, 4] [1, 3, 5, 7, 9]\n"
          ]
        }
      ]
    },
    {
      "cell_type": "code",
      "source": [
        "X = np.array(x)\n",
        "type(X)"
      ],
      "metadata": {
        "colab": {
          "base_uri": "https://localhost:8080/"
        },
        "id": "9DNKynJkUynX",
        "outputId": "68615d95-4cd5-48a6-97ba-d1aadc34f423"
      },
      "execution_count": 40,
      "outputs": [
        {
          "output_type": "execute_result",
          "data": {
            "text/plain": [
              "numpy.ndarray"
            ]
          },
          "metadata": {},
          "execution_count": 40
        }
      ]
    },
    {
      "cell_type": "code",
      "source": [
        "Y = np.array(y)\n",
        "Y"
      ],
      "metadata": {
        "colab": {
          "base_uri": "https://localhost:8080/"
        },
        "id": "GL56GtnwVFZK",
        "outputId": "141cdfbb-bd71-4ef0-d501-ee2813b60f97"
      },
      "execution_count": 41,
      "outputs": [
        {
          "output_type": "execute_result",
          "data": {
            "text/plain": [
              "array([1, 3, 5, 7, 9])"
            ]
          },
          "metadata": {},
          "execution_count": 41
        }
      ]
    },
    {
      "cell_type": "code",
      "source": [
        "# Velikost\n",
        "len(x), len(X)"
      ],
      "metadata": {
        "colab": {
          "base_uri": "https://localhost:8080/"
        },
        "id": "JHQlZKEsVO47",
        "outputId": "7f24abcb-82f4-43fa-d016-fbf49fff618b"
      },
      "execution_count": 42,
      "outputs": [
        {
          "output_type": "execute_result",
          "data": {
            "text/plain": [
              "(5, 5)"
            ]
          },
          "metadata": {},
          "execution_count": 42
        }
      ]
    },
    {
      "cell_type": "code",
      "source": [
        "x * 3"
      ],
      "metadata": {
        "colab": {
          "base_uri": "https://localhost:8080/"
        },
        "id": "P9CQcTaUVVcq",
        "outputId": "657a23c8-8609-47ce-c16e-b2b19be73e3d"
      },
      "execution_count": 43,
      "outputs": [
        {
          "output_type": "execute_result",
          "data": {
            "text/plain": [
              "[2, 5, 7, 3, 4, 2, 5, 7, 3, 4, 2, 5, 7, 3, 4]"
            ]
          },
          "metadata": {},
          "execution_count": 43
        }
      ]
    },
    {
      "cell_type": "markdown",
      "source": [
        "Mnozenje vektorja s skalarjem"
      ],
      "metadata": {
        "id": "Fezxr4G0Vkzk"
      }
    },
    {
      "cell_type": "code",
      "source": [
        "X * 3"
      ],
      "metadata": {
        "colab": {
          "base_uri": "https://localhost:8080/"
        },
        "id": "iKqczyoEVbed",
        "outputId": "fa5d9e2d-6c58-4937-f07b-785ddf2eaae9"
      },
      "execution_count": 44,
      "outputs": [
        {
          "output_type": "execute_result",
          "data": {
            "text/plain": [
              "array([ 6, 15, 21,  9, 12])"
            ]
          },
          "metadata": {},
          "execution_count": 44
        }
      ]
    },
    {
      "cell_type": "code",
      "source": [
        "# Sestevanje seznamov\n",
        "y + x"
      ],
      "metadata": {
        "colab": {
          "base_uri": "https://localhost:8080/"
        },
        "id": "2HGr4FS9VpFH",
        "outputId": "2babc85f-a71c-4710-b2fd-600d7010df37"
      },
      "execution_count": 45,
      "outputs": [
        {
          "output_type": "execute_result",
          "data": {
            "text/plain": [
              "[1, 3, 5, 7, 9, 2, 5, 7, 3, 4]"
            ]
          },
          "metadata": {},
          "execution_count": 45
        }
      ]
    },
    {
      "cell_type": "code",
      "source": [
        "Y + X"
      ],
      "metadata": {
        "colab": {
          "base_uri": "https://localhost:8080/"
        },
        "id": "TeOFbx3zVr8o",
        "outputId": "a12820f9-b8e3-4451-d6d5-7d90e35783b4"
      },
      "execution_count": 46,
      "outputs": [
        {
          "output_type": "execute_result",
          "data": {
            "text/plain": [
              "array([ 3,  8, 12, 10, 13])"
            ]
          },
          "metadata": {},
          "execution_count": 46
        }
      ]
    },
    {
      "cell_type": "code",
      "source": [
        "Y + x"
      ],
      "metadata": {
        "colab": {
          "base_uri": "https://localhost:8080/"
        },
        "id": "CnTiZFr2Vun2",
        "outputId": "0bf198d8-6dc0-4b0b-a524-a65c6233755b"
      },
      "execution_count": 49,
      "outputs": [
        {
          "output_type": "execute_result",
          "data": {
            "text/plain": [
              "array([ 3,  8, 12, 10, 13])"
            ]
          },
          "metadata": {},
          "execution_count": 49
        }
      ]
    },
    {
      "cell_type": "code",
      "source": [
        "# Izracunavanje funkcij\n",
        "math.cos(0)"
      ],
      "metadata": {
        "colab": {
          "base_uri": "https://localhost:8080/"
        },
        "id": "xl8sAjFbV94G",
        "outputId": "e0ccf706-dee9-40ed-8b1c-85832f25bd9c"
      },
      "execution_count": 51,
      "outputs": [
        {
          "output_type": "execute_result",
          "data": {
            "text/plain": [
              "1.0"
            ]
          },
          "metadata": {},
          "execution_count": 51
        }
      ]
    },
    {
      "cell_type": "code",
      "source": [
        "math.cos(x)"
      ],
      "metadata": {
        "colab": {
          "base_uri": "https://localhost:8080/",
          "height": 139
        },
        "id": "POBR1wVNWFf6",
        "outputId": "c6748718-6edf-4d6a-e73e-78852c8d2d48"
      },
      "execution_count": 52,
      "outputs": [
        {
          "output_type": "error",
          "ename": "TypeError",
          "evalue": "must be real number, not list",
          "traceback": [
            "\u001b[0;31m---------------------------------------------------------------------------\u001b[0m",
            "\u001b[0;31mTypeError\u001b[0m                                 Traceback (most recent call last)",
            "\u001b[0;32m<ipython-input-52-5aa3f5169bb5>\u001b[0m in \u001b[0;36m<cell line: 0>\u001b[0;34m()\u001b[0m\n\u001b[0;32m----> 1\u001b[0;31m \u001b[0mmath\u001b[0m\u001b[0;34m.\u001b[0m\u001b[0mcos\u001b[0m\u001b[0;34m(\u001b[0m\u001b[0mx\u001b[0m\u001b[0;34m)\u001b[0m\u001b[0;34m\u001b[0m\u001b[0;34m\u001b[0m\u001b[0m\n\u001b[0m",
            "\u001b[0;31mTypeError\u001b[0m: must be real number, not list"
          ]
        }
      ]
    },
    {
      "cell_type": "code",
      "source": [
        "np.cos(x)"
      ],
      "metadata": {
        "colab": {
          "base_uri": "https://localhost:8080/"
        },
        "id": "e7PiLCeTWHsg",
        "outputId": "087c145d-2a88-44a5-8904-ec792373424c"
      },
      "execution_count": 57,
      "outputs": [
        {
          "output_type": "execute_result",
          "data": {
            "text/plain": [
              "array([-0.41614684,  0.28366219,  0.75390225, -0.9899925 , -0.65364362])"
            ]
          },
          "metadata": {},
          "execution_count": 57
        }
      ]
    },
    {
      "cell_type": "code",
      "source": [
        "Z = np.array(range(10))\n",
        "Z"
      ],
      "metadata": {
        "colab": {
          "base_uri": "https://localhost:8080/"
        },
        "id": "7eEbc87fWwkC",
        "outputId": "f9c65677-42b5-4716-d51e-33c5b90a3e0a"
      },
      "execution_count": 59,
      "outputs": [
        {
          "output_type": "execute_result",
          "data": {
            "text/plain": [
              "array([0, 1, 2, 3, 4, 5, 6, 7, 8, 9])"
            ]
          },
          "metadata": {},
          "execution_count": 59
        }
      ]
    },
    {
      "cell_type": "code",
      "source": [
        "4 in x"
      ],
      "metadata": {
        "colab": {
          "base_uri": "https://localhost:8080/"
        },
        "id": "9kwy-ayOW2Nw",
        "outputId": "347e0c7d-2076-485f-e5f2-a7f0970d7eed"
      },
      "execution_count": 60,
      "outputs": [
        {
          "output_type": "execute_result",
          "data": {
            "text/plain": [
              "True"
            ]
          },
          "metadata": {},
          "execution_count": 60
        }
      ]
    },
    {
      "cell_type": "code",
      "source": [
        "4 in X"
      ],
      "metadata": {
        "colab": {
          "base_uri": "https://localhost:8080/"
        },
        "id": "QASy1De7W1--",
        "outputId": "230b3801-cd88-4af7-f907-1cbb1f363d55"
      },
      "execution_count": 61,
      "outputs": [
        {
          "output_type": "execute_result",
          "data": {
            "text/plain": [
              "True"
            ]
          },
          "metadata": {},
          "execution_count": 61
        }
      ]
    },
    {
      "cell_type": "code",
      "source": [
        "y > x"
      ],
      "metadata": {
        "colab": {
          "base_uri": "https://localhost:8080/"
        },
        "id": "8S7K6GY5Y3bG",
        "outputId": "773b5378-449c-4417-d77b-2e300663bf39"
      },
      "execution_count": 62,
      "outputs": [
        {
          "output_type": "execute_result",
          "data": {
            "text/plain": [
              "False"
            ]
          },
          "metadata": {},
          "execution_count": 62
        }
      ]
    },
    {
      "cell_type": "code",
      "source": [
        "Y > X"
      ],
      "metadata": {
        "colab": {
          "base_uri": "https://localhost:8080/"
        },
        "id": "8-eaXO-oZD9r",
        "outputId": "fff7eaaf-6947-40d0-a1e3-95d99cff275e"
      },
      "execution_count": 63,
      "outputs": [
        {
          "output_type": "execute_result",
          "data": {
            "text/plain": [
              "array([False, False, False,  True,  True])"
            ]
          },
          "metadata": {},
          "execution_count": 63
        }
      ]
    },
    {
      "cell_type": "code",
      "source": [
        "Y > Z"
      ],
      "metadata": {
        "colab": {
          "base_uri": "https://localhost:8080/",
          "height": 139
        },
        "id": "aAOdDRPXZWeE",
        "outputId": "cf09bc6f-3d26-4931-dffb-b3c9529401a9"
      },
      "execution_count": 64,
      "outputs": [
        {
          "output_type": "error",
          "ename": "ValueError",
          "evalue": "operands could not be broadcast together with shapes (5,) (10,) ",
          "traceback": [
            "\u001b[0;31m---------------------------------------------------------------------------\u001b[0m",
            "\u001b[0;31mValueError\u001b[0m                                Traceback (most recent call last)",
            "\u001b[0;32m<ipython-input-64-884c9eb521d3>\u001b[0m in \u001b[0;36m<cell line: 0>\u001b[0;34m()\u001b[0m\n\u001b[0;32m----> 1\u001b[0;31m \u001b[0mY\u001b[0m \u001b[0;34m>\u001b[0m \u001b[0mZ\u001b[0m\u001b[0;34m\u001b[0m\u001b[0;34m\u001b[0m\u001b[0m\n\u001b[0m",
            "\u001b[0;31mValueError\u001b[0m: operands could not be broadcast together with shapes (5,) (10,) "
          ]
        }
      ]
    },
    {
      "cell_type": "code",
      "source": [
        "Y[1]"
      ],
      "metadata": {
        "colab": {
          "base_uri": "https://localhost:8080/"
        },
        "id": "kJlh_a65ZtPi",
        "outputId": "0cce314d-bfd2-471e-dd3a-6996ddbb9e97"
      },
      "execution_count": 65,
      "outputs": [
        {
          "output_type": "execute_result",
          "data": {
            "text/plain": [
              "np.int64(3)"
            ]
          },
          "metadata": {},
          "execution_count": 65
        }
      ]
    },
    {
      "cell_type": "markdown",
      "source": [
        "Filtriranje"
      ],
      "metadata": {
        "id": "P2b9yi-pZ4L7"
      }
    },
    {
      "cell_type": "code",
      "source": [
        "sito = Y > X\n",
        "sito"
      ],
      "metadata": {
        "colab": {
          "base_uri": "https://localhost:8080/"
        },
        "id": "_uj2Frp-Z6oW",
        "outputId": "635e2401-5e42-4ed3-9cba-178b106a79c0"
      },
      "execution_count": 67,
      "outputs": [
        {
          "output_type": "execute_result",
          "data": {
            "text/plain": [
              "array([False, False, False,  True,  True])"
            ]
          },
          "metadata": {},
          "execution_count": 67
        }
      ]
    },
    {
      "cell_type": "code",
      "source": [
        "Y[sito]"
      ],
      "metadata": {
        "colab": {
          "base_uri": "https://localhost:8080/"
        },
        "id": "9tO8JrowaDG-",
        "outputId": "d8b84100-03d8-46a2-fb79-5fe9da65b6da"
      },
      "execution_count": 68,
      "outputs": [
        {
          "output_type": "execute_result",
          "data": {
            "text/plain": [
              "array([7, 9])"
            ]
          },
          "metadata": {},
          "execution_count": 68
        }
      ]
    },
    {
      "cell_type": "code",
      "source": [
        "Y[Y>X]"
      ],
      "metadata": {
        "colab": {
          "base_uri": "https://localhost:8080/"
        },
        "id": "bE4UcMziaSi4",
        "outputId": "d208b7bb-3c69-49f0-e24e-7f0f5cbcd659"
      },
      "execution_count": 69,
      "outputs": [
        {
          "output_type": "execute_result",
          "data": {
            "text/plain": [
              "array([7, 9])"
            ]
          },
          "metadata": {},
          "execution_count": 69
        }
      ]
    },
    {
      "cell_type": "code",
      "source": [
        "Y[[2,4]]"
      ],
      "metadata": {
        "colab": {
          "base_uri": "https://localhost:8080/"
        },
        "id": "LqVeS44Raj3i",
        "outputId": "a565ab7b-832e-4f2c-a4fc-4c6330ce90c8"
      },
      "execution_count": 70,
      "outputs": [
        {
          "output_type": "execute_result",
          "data": {
            "text/plain": [
              "array([5, 9])"
            ]
          },
          "metadata": {},
          "execution_count": 70
        }
      ]
    },
    {
      "cell_type": "code",
      "source": [
        "filter = [2,4]\n",
        "Y[filter]"
      ],
      "metadata": {
        "colab": {
          "base_uri": "https://localhost:8080/"
        },
        "id": "siSF8nfQar_N",
        "outputId": "94945353-9fe4-4d43-c303-523d1078ad60"
      },
      "execution_count": 72,
      "outputs": [
        {
          "output_type": "execute_result",
          "data": {
            "text/plain": [
              "array([5, 9])"
            ]
          },
          "metadata": {},
          "execution_count": 72
        }
      ]
    },
    {
      "cell_type": "markdown",
      "source": [
        "Funkcije za generiranje z posebnih ndarray"
      ],
      "metadata": {
        "id": "zt9Elje0bEcJ"
      }
    },
    {
      "cell_type": "code",
      "source": [
        "os_x = np.arange(0, np.pi*2, 0.1)\n",
        "os_x"
      ],
      "metadata": {
        "colab": {
          "base_uri": "https://localhost:8080/"
        },
        "id": "LItVcHdabDj5",
        "outputId": "1e8bd1c8-6bf3-457e-9d0f-62377c9975fa"
      },
      "execution_count": 74,
      "outputs": [
        {
          "output_type": "execute_result",
          "data": {
            "text/plain": [
              "array([0. , 0.1, 0.2, 0.3, 0.4, 0.5, 0.6, 0.7, 0.8, 0.9, 1. , 1.1, 1.2,\n",
              "       1.3, 1.4, 1.5, 1.6, 1.7, 1.8, 1.9, 2. , 2.1, 2.2, 2.3, 2.4, 2.5,\n",
              "       2.6, 2.7, 2.8, 2.9, 3. , 3.1, 3.2, 3.3, 3.4, 3.5, 3.6, 3.7, 3.8,\n",
              "       3.9, 4. , 4.1, 4.2, 4.3, 4.4, 4.5, 4.6, 4.7, 4.8, 4.9, 5. , 5.1,\n",
              "       5.2, 5.3, 5.4, 5.5, 5.6, 5.7, 5.8, 5.9, 6. , 6.1, 6.2])"
            ]
          },
          "metadata": {},
          "execution_count": 74
        }
      ]
    },
    {
      "cell_type": "code",
      "source": [
        "sin_x = np.sin(os_x)\n",
        "cos_x = np.cos(os_x)\n",
        "\n"
      ],
      "metadata": {
        "colab": {
          "base_uri": "https://localhost:8080/"
        },
        "id": "034R4Jsfbkcr",
        "outputId": "39bbdeb1-7cc9-4819-d75e-818ca78b61ce"
      },
      "execution_count": 77,
      "outputs": [
        {
          "output_type": "execute_result",
          "data": {
            "text/plain": [
              "array([ 0.        ,  0.09983342,  0.19866933,  0.29552021,  0.38941834,\n",
              "        0.47942554,  0.56464247,  0.64421769,  0.71735609,  0.78332691,\n",
              "        0.84147098,  0.89120736,  0.93203909,  0.96355819,  0.98544973,\n",
              "        0.99749499,  0.9995736 ,  0.99166481,  0.97384763,  0.94630009,\n",
              "        0.90929743,  0.86320937,  0.8084964 ,  0.74570521,  0.67546318,\n",
              "        0.59847214,  0.51550137,  0.42737988,  0.33498815,  0.23924933,\n",
              "        0.14112001,  0.04158066, -0.05837414, -0.15774569, -0.2555411 ,\n",
              "       -0.35078323, -0.44252044, -0.52983614, -0.61185789, -0.68776616,\n",
              "       -0.7568025 , -0.81827711, -0.87157577, -0.91616594, -0.95160207,\n",
              "       -0.97753012, -0.993691  , -0.99992326, -0.99616461, -0.98245261,\n",
              "       -0.95892427, -0.92581468, -0.88345466, -0.83226744, -0.77276449,\n",
              "       -0.70554033, -0.63126664, -0.55068554, -0.46460218, -0.37387666,\n",
              "       -0.2794155 , -0.1821625 , -0.0830894 ])"
            ]
          },
          "metadata": {},
          "execution_count": 77
        }
      ]
    },
    {
      "cell_type": "code",
      "source": [
        "# Risanje sinusne kriv\n",
        "\n",
        "import math\n",
        "import matplotlib.pyplot as plt\n",
        "\n",
        "os_x = np.arange(0, np.pi*2, 0.1)\n",
        "sin_x = np.sin(os_x)\n",
        "cos_x = np.cos(os_x)\n",
        "\n",
        "plt.plot(os_x, sin_x)\n",
        "plt.plot(os_x, cos_x, color='orange')\n",
        "\n",
        "plt.show()"
      ],
      "metadata": {
        "colab": {
          "base_uri": "https://localhost:8080/",
          "height": 251
        },
        "id": "1Hi3P6dXbxWz",
        "outputId": "ad38fa06-4570-4792-e108-4d610f80c3ee"
      },
      "execution_count": 78,
      "outputs": [
        {
          "output_type": "display_data",
          "data": {
            "text/plain": [
              "<Figure size 200x200 with 1 Axes>"
            ],
            "image/png": "[encoded data removed]"
          },
          "metadata": {}
        }
      ]
    },
    {
      "cell_type": "markdown",
      "source": [
        "Delo z datotekami z numpy"
      ],
      "metadata": {
        "id": "9XFvqBhBckB7"
      }
    },
    {
      "cell_type": "code",
      "source": [
        "# Z imeni stolpcev\n",
        "import numpy as np\n",
        "\n",
        "vreme = np.genfromtxt('VremeNM.csv', delimiter='\\t', names=True)\n",
        "\n",
        "vreme['Ttla2cm']"
      ],
      "metadata": {
        "colab": {
          "base_uri": "https://localhost:8080/"
        },
        "id": "aI4jSlxzcdmC",
        "outputId": "42640165-3603-4cfb-e10c-63db1fc6d578"
      },
      "execution_count": 86,
      "outputs": [
        {
          "output_type": "execute_result",
          "data": {
            "text/plain": [
              "array([10.6, 10.8, 10.9, ...,  0.8, -1. , -1.4])"
            ]
          },
          "metadata": {},
          "execution_count": 86
        }
      ]
    },
    {
      "cell_type": "code",
      "source": [
        "# Filtriranje privih 10 vrstic\n",
        "vreme[:10]"
      ],
      "metadata": {
        "colab": {
          "base_uri": "https://localhost:8080/"
        },
        "id": "HqA5a8RQeOMP",
        "outputId": "4544efc8-870c-4071-d9cb-f0f247095a2d"
      },
      "execution_count": 89,
      "outputs": [
        {
          "output_type": "execute_result",
          "data": {
            "text/plain": [
              "array([10.6, 10.8, 10.9, 10.9, 12.3, 13.7, 14.7, 15.7, 14.7, 14.9])"
            ]
          },
          "metadata": {},
          "execution_count": 89
        }
      ]
    },
    {
      "cell_type": "code",
      "source": [
        "#izpis vec stolpcev iz ndarray\n",
        "stolpci = ['leto', 'mesec']\n",
        "vreme[stolpci]"
      ],
      "metadata": {
        "colab": {
          "base_uri": "https://localhost:8080/"
        },
        "id": "Jz25wv6felfk",
        "outputId": "3d8e20c3-15b9-4ac1-eb72-d7226f102225"
      },
      "execution_count": 94,
      "outputs": [
        {
          "output_type": "execute_result",
          "data": {
            "text/plain": [
              "array([(1961.,  4.), (1961.,  4.), (1961.,  4.), ..., (2016., 12.),\n",
              "       (2016., 12.), (2016., 12.)],\n",
              "      dtype={'names': ['leto', 'mesec'], 'formats': ['<f8', '<f8'], 'offsets': [0, 8], 'itemsize': 80})"
            ]
          },
          "metadata": {},
          "execution_count": 94
        }
      ]
    },
    {
      "cell_type": "code",
      "source": [
        "vreme['leto', 'mesec', 'dan']\n",
        "vreme"
      ],
      "metadata": {
        "colab": {
          "base_uri": "https://localhost:8080/",
          "height": 173
        },
        "id": "M7fjNSLoe9IK",
        "outputId": "170ecfa1-3514-4f1c-ce02-295d640289cf"
      },
      "execution_count": 102,
      "outputs": [
        {
          "output_type": "error",
          "ename": "IndexError",
          "evalue": "only integers, slices (`:`), ellipsis (`...`), numpy.newaxis (`None`) and integer or boolean arrays are valid indices",
          "traceback": [
            "\u001b[0;31m---------------------------------------------------------------------------\u001b[0m",
            "\u001b[0;31mIndexError\u001b[0m                                Traceback (most recent call last)",
            "\u001b[0;32m<ipython-input-102-7d265dc66069>\u001b[0m in \u001b[0;36m<cell line: 0>\u001b[0;34m()\u001b[0m\n\u001b[0;32m----> 1\u001b[0;31m \u001b[0mvreme\u001b[0m\u001b[0;34m[\u001b[0m\u001b[0;34m'leto'\u001b[0m\u001b[0;34m,\u001b[0m \u001b[0;34m'mesec'\u001b[0m\u001b[0;34m,\u001b[0m \u001b[0;34m'dan'\u001b[0m\u001b[0;34m]\u001b[0m\u001b[0;34m\u001b[0m\u001b[0;34m\u001b[0m\u001b[0m\n\u001b[0m\u001b[1;32m      2\u001b[0m \u001b[0mvreme\u001b[0m\u001b[0;34m\u001b[0m\u001b[0;34m\u001b[0m\u001b[0m\n",
            "\u001b[0;31mIndexError\u001b[0m: only integers, slices (`:`), ellipsis (`...`), numpy.newaxis (`None`) and integer or boolean arrays are valid indices"
          ]
        }
      ]
    },
    {
      "cell_type": "code",
      "source": [
        "# Filter vrstic\n",
        "vrstice = vreme['leto'] == 1967\n",
        "vrstice"
      ],
      "metadata": {
        "colab": {
          "base_uri": "https://localhost:8080/"
        },
        "id": "CwQBubOOfDGS",
        "outputId": "507a5432-d5fb-4bd6-b5ee-b92845930794"
      },
      "execution_count": 105,
      "outputs": [
        {
          "output_type": "execute_result",
          "data": {
            "text/plain": [
              "array([False, False, False, ..., False, False, False])"
            ]
          },
          "metadata": {},
          "execution_count": 105
        }
      ]
    },
    {
      "cell_type": "code",
      "source": [
        "vreme[vrstice]"
      ],
      "metadata": {
        "colab": {
          "base_uri": "https://localhost:8080/"
        },
        "id": "FDRIRqj8fqzD",
        "outputId": "6376a478-0efd-48bc-e385-49e33b8cd71d"
      },
      "execution_count": 106,
      "outputs": [
        {
          "output_type": "execute_result",
          "data": {
            "text/plain": [
              "array([(1967.,  4.,  1.,  7.2,  6.8,  6.7,  6.2,  6.2,  6.5, nan),\n",
              "       (1967.,  4.,  2.,  5.9,  5.7,  6. ,  5.9,  6.3,  6.6, nan),\n",
              "       (1967.,  4.,  3.,  6.3,  6.1,  6.1,  5.9,  6.2,  6.7, nan),\n",
              "       (1967.,  4.,  4.,  7.9,  7.6,  7.5,  7. ,  6.8,  6.6, nan),\n",
              "       (1967.,  4.,  5.,  8.3,  8.5,  8. ,  7.7,  7. ,  7. , nan),\n",
              "       (1967.,  4.,  6.,  5.8,  6.3,  7.1,  7.4,  7.5,  7.4, nan),\n",
              "       (1967.,  4.,  7.,  1.8,  2.2,  3.1,  4.7,  6. ,  7.1, nan),\n",
              "       (1967.,  4.,  8.,  4.6,  4.4,  4.4,  4.2,  4.6,  5.8, nan),\n",
              "       (1967.,  4.,  9., 10.3, 10.2,  8.2,  6.7,  5.9,  6. , nan),\n",
              "       (1967.,  4., 10., 11.5, 11.1, 10.7,  9.4,  8. ,  7. , nan),\n",
              "       (1967.,  4., 11., 12.8, 12.3, 11.1, 10. ,  8.8,  8.1, nan),\n",
              "       (1967.,  4., 12., 13.5, 13.2, 12.5, 11.3,  9.9,  8.6, nan),\n",
              "       (1967.,  4., 13., 14.6, 13.9, 13.3, 12.3, 11.1,  9.4, nan),\n",
              "       (1967.,  4., 14., 11.7, 11.9, 12.1, 11.7, 11.1, 10. , nan),\n",
              "       (1967.,  4., 15., 12.3, 12.3, 11.9, 11.4, 11. , 10.3, nan),\n",
              "       (1967.,  4., 16., 11.8, 11.7, 11.9, 11.4, 11. , 10.3, nan),\n",
              "       (1967.,  4., 17., 13.1, 13. , 12.4, 11.6, 10.8, 10.3, nan),\n",
              "       (1967.,  4., 18., 14.8, 14. , 13.4, 12.6, 11.6, 10.6, nan),\n",
              "       (1967.,  4., 19.,  9.9, 10.4, 11.5, 11.8, 11.8, 11.4, nan),\n",
              "       (1967.,  4., 20., 10.3, 10.5, 10.7, 10.6, 10.6, 10.5, nan),\n",
              "       (1967.,  4., 21., 11.1, 10.7, 10.8, 10.7, 10.6, 10.4, nan),\n",
              "       (1967.,  4., 22.,  6.6,  7. ,  8.4,  9.4, 10.1, 10.4, nan),\n",
              "       (1967.,  4., 23.,  7.9,  7.9,  8.3,  8.4,  8.9,  9.6, nan),\n",
              "       (1967.,  4., 24.,  6.5,  6.3,  7.2,  7.8,  8.5,  9.3, nan),\n",
              "       (1967.,  4., 25.,  7.8,  7.8,  7.7,  7.7,  8.4,  9. , nan),\n",
              "       (1967.,  4., 26.,  7.2,  6.9,  7.1,  7.5,  8.1,  8.7, nan),\n",
              "       (1967.,  4., 27.,  7. ,  7.1,  7.3,  7.5,  8. ,  8.7, nan),\n",
              "       (1967.,  4., 28.,  8.7,  8. ,  8.7,  8.5,  8.2,  8.5, nan),\n",
              "       (1967.,  4., 29., 10.4,  9.8,  9.3,  8.9,  8.5,  8.5, nan),\n",
              "       (1967.,  4., 30., 13.7, 13.1, 12. , 10.6,  9.5,  9.1, nan),\n",
              "       (1967.,  5.,  1., 14.8, 13.8, 13.3, 12.1, 11. ,  9.7, nan),\n",
              "       (1967.,  5.,  2., 13.1, 13. , 13.2, 12.4, 11.4, 10.3, nan),\n",
              "       (1967.,  5.,  3., 14.2, 13.7, 13.7, 12.3, 11.6, 10.7, nan),\n",
              "       (1967.,  5.,  4., 13.3, 12.9, 13. , 12.5, 11.9, 10.9, nan),\n",
              "       (1967.,  5.,  5., 13.1, 13. , 12.8, 12.2, 11.6, 11. , nan),\n",
              "       (1967.,  5.,  6., 15.1, 14.1, 13.7, 12.7, 11.9, 11.3, nan),\n",
              "       (1967.,  5.,  7., 17.3, 16.5, 15.3, 14.1, 12.8, 11.6, nan),\n",
              "       (1967.,  5.,  8., 17.9, 17.1, 16.2, 15. , 13.5, 12. , nan),\n",
              "       (1967.,  5.,  9., 17.5, 16.5, 16.1, 15.2, 14. , 12.6, nan),\n",
              "       (1967.,  5., 10., 18.3, 17.3, 16.7, 15.5, 14.5, 12.9, nan),\n",
              "       (1967.,  5., 11., 19.5, 18.7, 17.7, 16.3, 14.9, 13.2, nan),\n",
              "       (1967.,  5., 12., 20.3, 18.9, 18.1, 16.8, 15.4, 13.6, nan),\n",
              "       (1967.,  5., 13., 21.2, 19.7, 18.7, 17.4, 16. , 14.2, nan),\n",
              "       (1967.,  5., 14., 20.5, 19.7, 19. , 17.7, 16.5, 14.6, nan),\n",
              "       (1967.,  5., 15., 20.6, 19.7, 19.1, 17.6, 16.8, 14.8, nan),\n",
              "       (1967.,  5., 16., 17.3, 16.9, 17.3, 17.2, 16.6, 15.2, nan),\n",
              "       (1967.,  5., 17., 17.5, 16.9, 17.1, 16.4, 15.9, 15. , nan),\n",
              "       (1967.,  5., 18., 18.9, 17.2, 16.8, 16.3, 15.7, 14.9, nan),\n",
              "       (1967.,  5., 19., 15.5, 15. , 15.8, 15.9, 15.7, 14.9, nan),\n",
              "       (1967.,  5., 20., 17.3, 16.3, 16. , 15.4, 15. , 14.6, nan),\n",
              "       (1967.,  5., 21., 17.3, 16.5, 16.4, 15.8, 15.4, 14.6, nan),\n",
              "       (1967.,  5., 22., 19.4, 18.1, 17.4, 16.3, 15.4, 14.7, nan),\n",
              "       (1967.,  5., 23., 19. , 18.1, 17.7, 16.8, 15.6, 14.9, nan),\n",
              "       (1967.,  5., 24., 17.8, 17.2, 17. , 16.6, 16.7, 15.1, nan),\n",
              "       (1967.,  5., 25., 15. , 14.9, 15.4, 15.5, 15.3, 15. , nan),\n",
              "       (1967.,  5., 26., 15. , 14.6, 14.9, 15. , 14.9, 14.8, nan),\n",
              "       (1967.,  5., 27., 20. , 18.7, 16.9, 15.6, 14.8, 14.4, nan),\n",
              "       (1967.,  5., 28., 22.3, 21.1, 19.4, 17.8, 16.3, 14.9, nan),\n",
              "       (1967.,  5., 29., 22.8, 22.1, 20.7, 19.1, 17.4, 15.6, nan),\n",
              "       (1967.,  5., 30., 22.6, 21.8, 20.8, 19.5, 18.2, 16.3, nan),\n",
              "       (1967.,  5., 31., 16.2, 16.4, 17.7, 17.9, 17.8, 16.6, nan),\n",
              "       (1967.,  6.,  1., 15.6, 15. , 15.3, 15.7, 16.1, 16.1, nan),\n",
              "       (1967.,  6.,  2., 19. , 17.5, 17.1, 16.3, 15.9, 15.7, nan),\n",
              "       (1967.,  6.,  3., 21. , 19.6, 18.7, 17.6, 16.6, 15.6, nan),\n",
              "       (1967.,  6.,  4., 18.9, 18.1, 17.9, 17.5, 16.9, 16.1, nan),\n",
              "       (1967.,  6.,  5., 22.3, 21.6, 19.7, 18.3, 17. , 16.2, nan),\n",
              "       (1967.,  6.,  6., 23.1, 22.4, 21.1, 19.6, 18.1, 16.6, nan),\n",
              "       (1967.,  6.,  7., 23.2, 22.4, 21.5, 20.4, 18.9, 17.2, nan),\n",
              "       (1967.,  6.,  8., 19.8, 19.8, 19.8, 19.4, 18.8, 17.4, nan),\n",
              "       (1967.,  6.,  9., 17.5, 17.1, 17.5, 17.7, 17.9, 17.4, nan),\n",
              "       (1967.,  6., 10., 15.7, 15.7, 16.6, 16.8, 16.8, 16.7, nan),\n",
              "       (1967.,  6., 11., 15.5, 15.6, 16.3, 16.4, 16.2, 16.2, nan),\n",
              "       (1967.,  6., 12., 14.3, 14.1, 14.6, 15.1, 15.6, 16.2, nan),\n",
              "       (1967.,  6., 13., 12.6, 12.6, 13.7, 14.2, 15.6, 15.6, nan),\n",
              "       (1967.,  6., 14., 16.3, 15.4, 15.1, 14.5, 14.5, 15.1, nan),\n",
              "       (1967.,  6., 15., 15. , 17.1, 16.4, 15.5, 15. , 15.1, nan),\n",
              "       (1967.,  6., 16., 16.7, 18.7, 17.6, 16.9, 16. , 15.3, nan),\n",
              "       (1967.,  6., 17., 14.9, 17.7, 17.2, 16.5, 16. , 15.7, nan),\n",
              "       (1967.,  6., 18., 19.2, 18.3, 17.8, 17.2, 16.9, 16.1, nan),\n",
              "       (1967.,  6., 19., 19.2, 18.3, 17.8, 17.2, 16.7, 16.2, nan),\n",
              "       (1967.,  6., 20., 20.1, 18.9, 18.4, 17.6, 16.8, 16.3, nan),\n",
              "       (1967.,  6., 21., 21.3, 20.2, 19.4, 18.2, 17.4, 16.4, nan),\n",
              "       (1967.,  6., 22., 22.8, 21.8, 20.7, 19.5, 18.1, 16.9, nan),\n",
              "       (1967.,  6., 23., 24.9, 23.5, 22. , 20.4, 19. , 17.4, nan),\n",
              "       (1967.,  6., 24., 25.5, 24.4, 23. , 21.5, 19.7, 17.8, nan),\n",
              "       (1967.,  6., 25., 27.1, 25.4, 23.8, 22.2, 20.4, 18.4, nan),\n",
              "       (1967.,  6., 26., 27.4, 26.1, 24.7, 23.1, 21.2, 19. , nan),\n",
              "       (1967.,  6., 27., 26.9, 25.7, 24.8, 23.5, 21.8, 20. , nan),\n",
              "       (1967.,  6., 28., 27.1, 25.9, 24.6, 23.3, 21.9, 19.7, nan),\n",
              "       (1967.,  6., 29., 23. , 22.7, 22.6, 22.3, 21.4, 20. , nan),\n",
              "       (1967.,  6., 30., 26.2, 24.7, 23.7, 22.3, 21. , 19.7, nan),\n",
              "       (1967.,  7.,  1., 26.9, 25.8, 24.9, 23.1, 21.1, 19.7, nan),\n",
              "       (1967.,  7.,  2., 27.4, 26.1, 25. , 23.7, 21.9, 20. , nan),\n",
              "       (1967.,  7.,  3., 25.8, 25.7, 25. , 23.9, 22.3, 20.4, nan),\n",
              "       (1967.,  7.,  4., 22.3, 22.9, 23.2, 23.1, 21.9, 20.4, nan),\n",
              "       (1967.,  7.,  5., 21.4, 21.4, 21.7, 21.5, 21.4, 20.2, nan),\n",
              "       (1967.,  7.,  6., 22.4, 21.7, 20.7, 20.9, 20.5, 19.9, nan),\n",
              "       (1967.,  7.,  7., 23.3, 22.2, 21.7, 21. , 20.3, 19.6, nan),\n",
              "       (1967.,  7.,  8., 24.2, 23.4, 22.7, 22.2, 21. , 19.8, nan),\n",
              "       (1967.,  7.,  9., 19.7, 19.8, 20.6, 20.8, 20.7, 20. , nan),\n",
              "       (1967.,  7., 10., 16.5, 16.5, 17.8, 18.9, 18.9, 19.7, nan),\n",
              "       (1967.,  7., 11., 20.4, 19.3, 19. , 18.7, 18.7, 18.9, nan),\n",
              "       (1967.,  7., 12., 23.6, 22.2, 21.3, 20.2, 19.3, 18.9, nan),\n",
              "       (1967.,  7., 13., 25. , 23.9, 23. , 21.7, 20.4, 19.3, nan),\n",
              "       (1967.,  7., 14., 26.8, 25.3, 24.3, 23.5, 21.4, 20.1, nan),\n",
              "       (1967.,  7., 15., 27.1, 25.6, 24.7, 23.9, 22.1, 20.6, nan),\n",
              "       (1967.,  7., 16., 26.6, 25.3, 24.5, 24. , 22.3, 21. , nan),\n",
              "       (1967.,  7., 17., 26.2, 25.4, 24.9, 24.3, 22.8, 21.4, nan),\n",
              "       (1967.,  7., 18., 25.4, 24.4, 24. , 23.6, 22.5, 21.3, nan),\n",
              "       (1967.,  7., 19., 25.5, 24.4, 24. , 23.5, 22.5, 21.3, nan),\n",
              "       (1967.,  7., 20., 26.9, 25.5, 24.7, 23.8, 22.5, 21.4, nan),\n",
              "       (1967.,  7., 21., 27.1, 26. , 25.1, 24.4, 23. , 21.6, nan),\n",
              "       (1967.,  7., 22., 25.8, 25.3, 24.2, 24.3, 23. , 21.8, nan),\n",
              "       (1967.,  7., 23., 27.4, 26.4, 25.3, 24.6, 23. , 21.8, nan),\n",
              "       (1967.,  7., 24., 25.2, 24.7, 24.5, 24.6, 23.3, 21.9, nan),\n",
              "       (1967.,  7., 25., 23.5, 23.1, 23.3, 23.1, 22.6, 21.8, nan),\n",
              "       (1967.,  7., 26., 21.5, 21.2, 21.5, 22. , 22. , 21.6, nan),\n",
              "       (1967.,  7., 27., 22.5, 22. , 21.7, 21.7, 21.5, 21.4, nan),\n",
              "       (1967.,  7., 28., 24.1, 23.3, 22.9, 22.1, 21.5, 21. , nan),\n",
              "       (1967.,  7., 29., 25.5, 24.5, 23.8, 22.9, 21.9, 21.2, nan),\n",
              "       (1967.,  7., 30., 26.2, 25.5, 24.8, 23.7, 22.6, 21.5, nan),\n",
              "       (1967.,  7., 31., 27.4, 26.5, 25.4, 24.7, 22.9, 21.6, nan),\n",
              "       (1967.,  8.,  1., 28.2, 27. , 25.9, 25.2, 23.6, 22. , nan),\n",
              "       (1967.,  8.,  2., 28.2, 27.4, 26.5, 25.3, 23.9, 22.2, nan),\n",
              "       (1967.,  8.,  3., 26.5, 26. , 25.7, 25.3, 23.9, 23.2, nan),\n",
              "       (1967.,  8.,  4., 27.8, 26.9, 26.1, 25.4, 23.9, 22.5, nan),\n",
              "       (1967.,  8.,  5., 26.8, 26.1, 25.9, 25.4, 24.1, 22.2, nan),\n",
              "       (1967.,  8.,  6., 19.5, 19.8, 21.3, 22.4, 22.7, 22.3, nan),\n",
              "       (1967.,  8.,  7., 19.5, 19.3, 20.2, 20.7, 21.2, 21.5, nan),\n",
              "       (1967.,  8.,  8., 22.5, 21.6, 21.2, 20.9, 20.6, 20.7, nan),\n",
              "       (1967.,  8.,  9., 25. , 24.4, 23.5, 23.2, 21.5, 20.8, nan),\n",
              "       (1967.,  8., 10., 23.4, 23.1, 23. , 23.3, 22.1, 21.1, nan),\n",
              "       (1967.,  8., 11., 19.5, 19.6, 20.9, 21.5, 21.3, 21. , nan),\n",
              "       (1967.,  8., 12., 21. , 20.9, 21.1, 21.1, 20.6, 20.6, nan),\n",
              "       (1967.,  8., 13., 16.2, 16.8, 18.2, 19.1, 19.9, 20.3, nan),\n",
              "       (1967.,  8., 14., 16.3, 16.6, 17.7, 18.2, 18.7, 19.8, nan),\n",
              "       (1967.,  8., 15., 19.5, 19.1, 18.8, 18.4, 18.6, 19.2, nan),\n",
              "       (1967.,  8., 16., 23.9, 22.7, 21.7, 19.8, 19.4, 19.3, nan),\n",
              "       (1967.,  8., 17., 23.4, 23.2, 22.6, 21.8, 20.9, 20. , nan),\n",
              "       (1967.,  8., 18., 21.6, 21.6, 21.9, 21.6, 21. , 20.2, nan),\n",
              "       (1967.,  8., 19., 22.1, 21.7, 21.7, 21.1, 20.7, 20.2, nan),\n",
              "       (1967.,  8., 20., 21.3, 21. , 21.5, 21.2, 20.8, 20.3, nan),\n",
              "       (1967.,  8., 21., 21.4, 21.4, 21.5, 21.1, 20.8, 20. , nan),\n",
              "       (1967.,  8., 22., 20.8, 21. , 21.2, 20.8, 20.4, 19.9, nan),\n",
              "       (1967.,  8., 23., 21.1, 21.1, 21.1, 20.5, 20.2, 19.8, nan),\n",
              "       (1967.,  8., 24., 21.5, 21.4, 21.3, 21. , 20.5, 19.6, nan),\n",
              "       (1967.,  8., 25., 21.1, 20.8, 21. , 20.9, 20.4, 19.9, nan),\n",
              "       (1967.,  8., 26., 20.7, 20.3, 20.8, 20.6, 20.6, 20.1, nan),\n",
              "       (1967.,  8., 27., 21.3, 21.4, 21.2, 20.8, 20.2, 19.9, nan),\n",
              "       (1967.,  8., 28., 20.5, 20.4, 20.3, 20.6, 20.3, 20. , nan),\n",
              "       (1967.,  8., 29., 21.2, 20.9, 20.9, 20.3, 20.2, 20. , nan),\n",
              "       (1967.,  8., 30., 21.5, 21.6, 21.4, 20.9, 20.4, 19.8, nan),\n",
              "       (1967.,  8., 31., 21.5, 21.1, 21.1, 20.7, 20.3, 19.9, nan),\n",
              "       (1967.,  9.,  1., 20.8, 20.7, 20.8, 20.7, 20.5, 20.1, nan),\n",
              "       (1967.,  9.,  2., 20.5, 20.6, 21. , 20.7, 20.2, 19.7, nan),\n",
              "       (1967.,  9.,  3., 21.1, 21.3, 21.3, 20.7, 20.3, 19.8, nan),\n",
              "       (1967.,  9.,  4., 21.2, 21.3, 21.4, 21. , 20.6, 20. , nan),\n",
              "       (1967.,  9.,  5., 19.6, 19.4, 20.2, 20.3, 20.1, 19.9, nan),\n",
              "       (1967.,  9.,  6., 20.7, 20.6, 20.2, 20. , 19.8, 19.8, nan),\n",
              "       (1967.,  9.,  7., 20.7, 20.5, 20.6, 20.4, 20.2, 20. , nan),\n",
              "       (1967.,  9.,  8., 20.4, 20.3, 20.4, 20.3, 20.3, 19.6, nan),\n",
              "       (1967.,  9.,  9., 17.8, 17.7, 18.6, 19.1, 19.5, 19.7, nan),\n",
              "       (1967.,  9., 10., 17.3, 17.3, 18.1, 18.4, 18.9, 19.3, nan),\n",
              "       (1967.,  9., 11., 16.7, 16.9, 17.4, 17.7, 18.2, 18.7, nan),\n",
              "       (1967.,  9., 12., 13.7, 14.1, 15.4, 16.2, 17.2, 18.4, nan),\n",
              "       (1967.,  9., 13., 16.9, 16.6, 16.3, 16.4, 16.9, 17.9, nan),\n",
              "       (1967.,  9., 14., 14. , 14.4, 15.6, 16.3, 16.7, 17.5, nan),\n",
              "       (1967.,  9., 15., 16.7, 15.9, 16.1, 16.2, 16.5, 17.3, nan),\n",
              "       (1967.,  9., 16., 14.7, 14.8, 15.8, 16.2, 16.7, 17.3, nan),\n",
              "       (1967.,  9., 17., 15.1, 14.8, 15.3, 15.7, 16. , 16.9, nan),\n",
              "       (1967.,  9., 18., 17.2, 16.9, 16.2, 16.2, 16.2, 16.8, nan),\n",
              "       (1967.,  9., 19., 17. , 16.9, 16.8, 16.6, 16.6, 17. , nan),\n",
              "       (1967.,  9., 20., 16.1, 16.6, 16.8, 16.7, 16.6, 17. , nan),\n",
              "       (1967.,  9., 21., 17. , 17. , 17.1, 16.9, 16.9, 17.1, nan),\n",
              "       (1967.,  9., 22., 16.4, 16.3, 16.7, 16.9, 17. , 17.3, nan),\n",
              "       (1967.,  9., 23., 17.1, 16.7, 16.7, 16.7, 16.6, 17. , nan),\n",
              "       (1967.,  9., 24., 16.8, 16.3, 16.3, 16.2, 16.4, 17. , nan),\n",
              "       (1967.,  9., 25., 18. , 18.1, 17.6, 17. , 16.9, 17.2, nan),\n",
              "       (1967.,  9., 26., 19.3, 18.6, 18.1, 17.6, 17.1, 17.1, nan),\n",
              "       (1967.,  9., 27., 19.5, 18.9, 18.3, 17.9, 17.5, 17.4, nan),\n",
              "       (1967.,  9., 28., 20. , 19.3, 18.8, 17.9, 17.8, 17.6, nan),\n",
              "       (1967.,  9., 29., 18.9, 18.8, 18.8, 18.5, 18.2, 17.7, nan),\n",
              "       (1967.,  9., 30., 18.4, 17.9, 17.9, 17.8, 17.7, 17.8, nan),\n",
              "       (1967., 10.,  1., 18.4, 18.1, 17.9, 17.9, 17.7, 17.7, nan),\n",
              "       (1967., 10.,  2., 19.4, 18.9, 18.5, 18.2, 17.8, 17.5, nan),\n",
              "       (1967., 10.,  3., 17.6, 17.3, 17.7, 17.6, 17.6, 17.6, nan),\n",
              "       (1967., 10.,  4., 17.4, 17.1, 17.9, 17.8, 17.7, 17.8, nan),\n",
              "       (1967., 10.,  5., 13. , 13.2, 14.7, 15.8, 16.6, 17.2, nan),\n",
              "       (1967., 10.,  6., 12.6, 12.9, 13.5, 14.2, 15.2, 16.5, nan),\n",
              "       (1967., 10.,  7., 13.6, 13.4, 13.8, 14.1, 14.7, 15.9, nan),\n",
              "       (1967., 10.,  8., 15.6, 14.9, 14.9, 15.7, 14.7, 15.8, nan),\n",
              "       (1967., 10.,  9., 15.9, 15.2, 15.4, 15.3, 15.3, 15.8, nan),\n",
              "       (1967., 10., 10., 17. , 16.1, 15.6, 15.6, 15.5, 15.9, nan),\n",
              "       (1967., 10., 11., 16.4, 15.9, 16. , 15.9, 15.7, 16. , nan),\n",
              "       (1967., 10., 12., 16.3, 15.5, 15.9, 15.8, 15.7, 16. , nan),\n",
              "       (1967., 10., 13., 15.2, 15.4, 15.6, 15.4, 15.6, 16.1, nan),\n",
              "       (1967., 10., 14., 14.8, 14.6, 14.9, 15. , 15.2, 15.8, nan),\n",
              "       (1967., 10., 15., 16. , 15.5, 15.2, 14.7, 15.2, 15.8, nan),\n",
              "       (1967., 10., 16., 15.4, 15.2, 15.6, 15.5, 15.4, 15.6, nan),\n",
              "       (1967., 10., 17., 16.3, 15.7, 15.7, 15.5, 15.6, 15.9, nan),\n",
              "       (1967., 10., 18., 12.1, 12.8, 14. , 14.7, 15.2, 15.6, nan),\n",
              "       (1967., 10., 19.,  9.7, 10.5, 12.1, 12.9, 13.9, 15.2, nan),\n",
              "       (1967., 10., 20.,  7.9,  8.8, 10.2, 11.1, 12.8, 14.7, nan),\n",
              "       (1967., 10., 21.,  8.6,  9.2,  9.8, 10.4, 11.7, 13.6, nan),\n",
              "       (1967., 10., 22., 10. ,  9.8, 10.2, 10.6, 11.5, 13.2, nan),\n",
              "       (1967., 10., 23., 10.7, 10.6, 10.9, 11.1, 11.6, 13.1, nan),\n",
              "       (1967., 10., 24., 10.7, 10.9, 11. , 11.1, 11.5, 12.8, nan),\n",
              "       (1967., 10., 25., 11. , 10.6, 11. , 11.2, 11.7, 12.8, nan),\n",
              "       (1967., 10., 26., 11.3, 11.1, 11.6, 11.5, 11.9, 12.8, nan),\n",
              "       (1967., 10., 27., 12. , 11.6, 11.6, 11.6, 12. , 12.7, nan),\n",
              "       (1967., 10., 28., 12.3, 11.8, 11.9, 12. , 12.2, 13. , nan),\n",
              "       (1967., 10., 29., 11.4, 11.2, 11.6, 11.9, 12.3, 13. , nan),\n",
              "       (1967., 10., 30.,  9.4,  9.9, 10.8, 11.3, 11.9, 12.8, nan),\n",
              "       (1967., 10., 31.,  8.8,  8.8,  9.7, 10.5, 11.3, 12.6, nan),\n",
              "       (1967., 11.,  1.,  8.1,  8.2,  9.2,  9.7, 10.7, 12.3, nan),\n",
              "       (1967., 11.,  2.,  9.2,  9.1,  9.9,  9.9, 10.6, 11.8, nan),\n",
              "       (1967., 11.,  3.,  9.4,  9.1,  9.5,  9.8, 10.4, 11.7, nan),\n",
              "       (1967., 11.,  4., 10.5, 10. , 10.5, 10.4, 10.7, 11.5, nan),\n",
              "       (1967., 11.,  5., 11.1, 10.8, 11.2, 10.9, 11. , 11.5, nan),\n",
              "       (1967., 11.,  6., 11. , 11.3, 11.7, 11.4, 11.3, 11.6, nan),\n",
              "       (1967., 11.,  7.,  9.2,  9.2,  9.9,  9.9, 10.8, 11.8, nan),\n",
              "       (1967., 11.,  8.,  8.6,  8.7,  9.1,  9.7, 10.3, 11.4, nan),\n",
              "       (1967., 11.,  9.,  8.9,  9. ,  9.6,  9.9, 10.3, 11.1, nan),\n",
              "       (1967., 11., 10., 10.2, 10.2, 10.5, 10.1, 10.7, 11.3, nan),\n",
              "       (1967., 11., 11.,  6.6,  7.4,  8.9,  9.5, 10.3, 11.2, nan),\n",
              "       (1967., 11., 12.,  5.1,  5.9,  6.6,  7.8,  9.1, 10.7, nan),\n",
              "       (1967., 11., 13.,  5.6,  6.7,  7.1,  7.5,  8.9, 10.3, nan),\n",
              "       (1967., 11., 14.,  6.7,  6.8,  6.8,  7.3,  8.3,  9.8, nan),\n",
              "       (1967., 11., 15.,  7.8,  7.3,  7.5,  7.7,  8.3,  9.5, nan),\n",
              "       (1967., 11., 16., 12.4, 12. , 11.2, 10.1,  9.6,  9.8, nan),\n",
              "       (1967., 11., 17.,  9.8, 10.1, 10.6, 10.7, 10.5, 10.2, nan),\n",
              "       (1967., 11., 18.,  6.8,  7.1,  8.2,  9.1,  9.8, 10.6, nan),\n",
              "       (1967., 11., 19.,  4.9,  5.8,  6.6,  7.5,  8.7, 10.2, nan),\n",
              "       (1967., 11., 20.,  3.5,  4.4,  5.7,  6.7,  7.9,  9.6, nan),\n",
              "       (1967., 11., 21.,  1.9,  2.7,  3.9,  5.1,  6.9,  9.1, nan),\n",
              "       (1967., 11., 22.,  1.6,  2.2,  3.1,  4.2,  5.8,  8.3, nan),\n",
              "       (1967., 11., 23.,  2.3,  2.8,  3.3,  3.9,  5. ,  7.8, nan),\n",
              "       (1967., 11., 24.,  3.3,  3.1,  3.6,  4.3,  5.4,  7.4, nan),\n",
              "       (1967., 11., 25.,  3.8,  3.8,  4.3,  4.6,  5.5,  7.1, nan),\n",
              "       (1967., 11., 26.,  3.7,  3.7,  4.3,  4.7,  5.5,  7.1, nan),\n",
              "       (1967., 11., 27.,  4.3,  4.2,  4.9,  5.2,  5.7,  7.3, nan),\n",
              "       (1967., 11., 28.,  1.5,  2.1,  3.4,  4.4,  5.4,  7. , nan),\n",
              "       (1967., 11., 29.,  1.5,  1.9,  2.7,  3.5,  4.8,  6.7, nan),\n",
              "       (1967., 11., 30.,  2.1,  1.9,  2.7,  3.4,  4.5,  6.4, nan),\n",
              "       (1967., 12.,  1.,  3.4,  3.3,  3.5,  3.8,  4.4,  6. , nan),\n",
              "       (1967., 12.,  2.,  0.4,  0.9,  2.2,  3.2,  4.2,  6. , nan),\n",
              "       (1967., 12.,  3.,  1.5,  2.2,  2.3,  2.9,  3.7,  5.7, nan),\n",
              "       (1967., 12.,  4.,  0.7,  0.9,  1.7,  2.5,  3.5,  5.4, nan),\n",
              "       (1967., 12.,  5.,  2.1,  3.1,  2.2,  2.6,  3.5,  5.2, nan),\n",
              "       (1967., 12.,  6.,  2.9,  2.8,  2.7,  3. ,  3.7,  5.2, nan),\n",
              "       (1967., 12.,  7.,  1.4,  1.6,  2.4,  2.9,  3.6,  5. , nan),\n",
              "       (1967., 12.,  8.,  1.1,  1.4,  2.1,  2.5,  3.5,  5.1, nan),\n",
              "       (1967., 12.,  9.,  0.7,  1. ,  1.8,  2.6,  3.4,  4.8, nan),\n",
              "       (1967., 12., 10.,  0.4,  0.7,  1.3,  2. ,  3.1,  4.6, nan),\n",
              "       (1967., 12., 11.,  0.7,  0.8,  1.6,  1.9,  3.1,  4.5, nan),\n",
              "       (1967., 12., 12.,  0.5,  0.7,  1.6,  2.2,  2.8,  4.5, nan),\n",
              "       (1967., 12., 13.,  0.4,  0.7,  1.3,  1.7,  2.6,  4.3, nan),\n",
              "       (1967., 12., 14.,  0.4,  0.6,  1.3,  1.7,  2.7,  4.3, nan),\n",
              "       (1967., 12., 15.,  0.4,  0.4,  1.3,  1.8,  2.6,  4.1, nan),\n",
              "       (1967., 12., 16.,  0.1,  0.3,  0.8,  1.5,  2.3,  4. , nan),\n",
              "       (1967., 12., 17.,  0.1,  0.5,  1. ,  1.3,  2.4,  4.1, nan),\n",
              "       (1967., 12., 18., -1.1, -0.4,  0.5,  1.2,  2.1,  3.9, nan),\n",
              "       (1967., 12., 19., -1.8, -0.8, -0.1,  0.8,  1.8,  3.7, nan),\n",
              "       (1967., 12., 20., -1. , -0.4,  0.6,  0.8,  2. ,  3.7, nan),\n",
              "       (1967., 12., 21., -2.5, -1.6, -0.2,  0.5,  1.7,  3.8, nan),\n",
              "       (1967., 12., 22., -0.7, -0.3,  0.3,  0.4,  1.5,  3.5, nan),\n",
              "       (1967., 12., 23.,  0. , -0.2,  0.3,  0.5,  1.5,  3.4, nan),\n",
              "       (1967., 12., 24.,  4. ,  2.7,  1.5,  1.1,  1.4,  2.9, nan),\n",
              "       (1967., 12., 25.,  3.5,  3.3,  2.8,  1.9,  2.3,  3.1, nan),\n",
              "       (1967., 12., 26.,  4.2,  3.6,  3.2,  2.8,  2.5,  3.6, nan),\n",
              "       (1967., 12., 27.,  3.4,  3.7,  3.6,  3.6,  3.5,  4. , nan),\n",
              "       (1967., 12., 28.,  0.4,  1.1,  1.8,  2.4,  3. ,  4. , nan),\n",
              "       (1967., 12., 29., -0.7,  0.1,  1.2,  1.6,  2.5,  3.9, nan),\n",
              "       (1967., 12., 30.,  0.1,  0.6,  1.3,  1.5,  2.2,  3.6, nan),\n",
              "       (1967., 12., 31.,  0. ,  0.5,  1.1,  1.5,  2. ,  3.4, nan)],\n",
              "      dtype=[('leto', '<f8'), ('mesec', '<f8'), ('dan', '<f8'), ('Ttla2cm', '<f8'), ('Ttla5cm', '<f8'), ('Ttla10cm', '<f8'), ('Ttla20cm', '<f8'), ('Ttla30cm', '<f8'), ('Ttla50cm', '<f8'), ('Ttla100cm', '<f8')])"
            ]
          },
          "metadata": {},
          "execution_count": 106
        }
      ]
    },
    {
      "cell_type": "code",
      "source": [
        "vreme[vrstice][:10]"
      ],
      "metadata": {
        "colab": {
          "base_uri": "https://localhost:8080/"
        },
        "id": "5a93erWsf0te",
        "outputId": "41e8eb68-2535-4d01-9f2e-236d9620e34d"
      },
      "execution_count": 115,
      "outputs": [
        {
          "output_type": "execute_result",
          "data": {
            "text/plain": [
              "array([(1967., 4.,  1.,  7.2,  6.8,  6.7, 6.2, 6.2, 6.5, nan),\n",
              "       (1967., 4.,  2.,  5.9,  5.7,  6. , 5.9, 6.3, 6.6, nan),\n",
              "       (1967., 4.,  3.,  6.3,  6.1,  6.1, 5.9, 6.2, 6.7, nan),\n",
              "       (1967., 4.,  4.,  7.9,  7.6,  7.5, 7. , 6.8, 6.6, nan),\n",
              "       (1967., 4.,  5.,  8.3,  8.5,  8. , 7.7, 7. , 7. , nan),\n",
              "       (1967., 4.,  6.,  5.8,  6.3,  7.1, 7.4, 7.5, 7.4, nan),\n",
              "       (1967., 4.,  7.,  1.8,  2.2,  3.1, 4.7, 6. , 7.1, nan),\n",
              "       (1967., 4.,  8.,  4.6,  4.4,  4.4, 4.2, 4.6, 5.8, nan),\n",
              "       (1967., 4.,  9., 10.3, 10.2,  8.2, 6.7, 5.9, 6. , nan),\n",
              "       (1967., 4., 10., 11.5, 11.1, 10.7, 9.4, 8. , 7. , nan)],\n",
              "      dtype=[('leto', '<f8'), ('mesec', '<f8'), ('dan', '<f8'), ('Ttla2cm', '<f8'), ('Ttla5cm', '<f8'), ('Ttla10cm', '<f8'), ('Ttla20cm', '<f8'), ('Ttla30cm', '<f8'), ('Ttla50cm', '<f8'), ('Ttla100cm', '<f8')])"
            ]
          },
          "metadata": {},
          "execution_count": 115
        }
      ]
    },
    {
      "source": [
        "# Izpisi podatke o temperaturah na dveh cm v avgustu 1967\n",
        "\n",
        "vrstice = (vreme['leto'] == 1967) & (vreme['mesec'] == 8) # Change & to logical and and add parenthesis for clarity.\n",
        "t2cm = vreme[vrstice]['Ttla2cm']"
      ],
      "cell_type": "code",
      "metadata": {
        "id": "Kq8xPrJ0hSAx"
      },
      "execution_count": 121,
      "outputs": []
    },
    {
      "cell_type": "code",
      "source": [
        "type(t2cm)"
      ],
      "metadata": {
        "colab": {
          "base_uri": "https://localhost:8080/"
        },
        "id": "8sJJD9iFgrJf",
        "outputId": "2cfafc24-7b9b-4840-95e5-34545115d759"
      },
      "execution_count": 119,
      "outputs": [
        {
          "output_type": "execute_result",
          "data": {
            "text/plain": [
              "numpy.ndarray"
            ]
          },
          "metadata": {},
          "execution_count": 119
        }
      ]
    },
    {
      "cell_type": "code",
      "source": [
        "t2cm.mean()"
      ],
      "metadata": {
        "colab": {
          "base_uri": "https://localhost:8080/"
        },
        "id": "wY04xhZwhe5b",
        "outputId": "bd038310-2f65-4fd1-b359-330b7287527e"
      },
      "execution_count": 120,
      "outputs": [
        {
          "output_type": "execute_result",
          "data": {
            "text/plain": [
              "np.float64(22.090322580645164)"
            ]
          },
          "metadata": {},
          "execution_count": 120
        }
      ]
    },
    {
      "cell_type": "code",
      "source": [
        "t2cm.min()"
      ],
      "metadata": {
        "colab": {
          "base_uri": "https://localhost:8080/"
        },
        "id": "wh_mDw7Dhmx6",
        "outputId": "f2aaff15-51d2-4dfa-c87c-3731ac837c8a"
      },
      "execution_count": 122,
      "outputs": [
        {
          "output_type": "execute_result",
          "data": {
            "text/plain": [
              "np.float64(16.2)"
            ]
          },
          "metadata": {},
          "execution_count": 122
        }
      ]
    },
    {
      "cell_type": "code",
      "source": [
        "t2cm.max()"
      ],
      "metadata": {
        "colab": {
          "base_uri": "https://localhost:8080/"
        },
        "id": "mo87e7chhrY6",
        "outputId": "5ee5edfc-f3cc-48ea-d7ed-b71bcd619f97"
      },
      "execution_count": 123,
      "outputs": [
        {
          "output_type": "execute_result",
          "data": {
            "text/plain": [
              "np.float64(28.2)"
            ]
          },
          "metadata": {},
          "execution_count": 123
        }
      ]
    },
    {
      "cell_type": "code",
      "source": [
        "t2cm.mean().round(2)"
      ],
      "metadata": {
        "colab": {
          "base_uri": "https://localhost:8080/"
        },
        "id": "W58fFrh7hwps",
        "outputId": "6637fbdb-434d-4446-fc3b-9b949fc4fda8"
      },
      "execution_count": 125,
      "outputs": [
        {
          "output_type": "execute_result",
          "data": {
            "text/plain": [
              "np.float64(22.09)"
            ]
          },
          "metadata": {},
          "execution_count": 125
        }
      ]
    },
    {
      "cell_type": "code",
      "source": [
        "# Izracunajmo povprecne avg. temperature na 5 cm, preko vseh let\n",
        "\n",
        "vrstice = (vreme['mesec'] == 8)\n",
        "t5cm = vreme[vrstice]['Ttla5cm']\n",
        "np.mean(t5cm)"
      ],
      "metadata": {
        "colab": {
          "base_uri": "https://localhost:8080/"
        },
        "id": "A-ttniSvh4sB",
        "outputId": "7abeb76b-6ff4-451f-a23a-f4fafbd55914"
      },
      "execution_count": 128,
      "outputs": [
        {
          "output_type": "execute_result",
          "data": {
            "text/plain": [
              "np.float64(21.971554252199414)"
            ]
          },
          "metadata": {},
          "execution_count": 128
        }
      ]
    },
    {
      "cell_type": "code",
      "source": [
        "# izracunaj povprecno temp na 100 cm v letu\n",
        "\n",
        "vrstice = (vreme['leto'] == 1991)\n",
        "t100cm = vreme[vrstice]['Ttla100cm']\n",
        "np.mean(t100cm)"
      ],
      "metadata": {
        "colab": {
          "base_uri": "https://localhost:8080/"
        },
        "id": "peWESppzitGn",
        "outputId": "0c1c362a-9523-41a0-a09c-45235d545843"
      },
      "execution_count": 129,
      "outputs": [
        {
          "output_type": "execute_result",
          "data": {
            "text/plain": [
              "np.float64(11.541643835616437)"
            ]
          },
          "metadata": {},
          "execution_count": 129
        }
      ]
    },
    {
      "cell_type": "code",
      "source": [
        "# Izracunaj povp do leta 1991\n",
        "vrstice = (vreme['leto']) <= 1991 & (vreme['Ttla100cm'])\n",
        "t100cm = vreme[vrstice]['Ttla100cm']\n",
        "#t100cm.mean()\n",
        "\n",
        "# Ker so v izracunu vkljucene tudi vrednosti nan, se ne izracuna prav\n",
        "x = np.nanmean(t100cm)\n",
        "x"
      ],
      "metadata": {
        "colab": {
          "base_uri": "https://localhost:8080/",
          "height": 224
        },
        "id": "U1GHFXUNjZxG",
        "outputId": "24b7804f-26a9-4d53-8355-ac9958ad808e"
      },
      "execution_count": 147,
      "outputs": [
        {
          "output_type": "error",
          "ename": "TypeError",
          "evalue": "ufunc 'bitwise_and' not supported for the input types, and the inputs could not be safely coerced to any supported types according to the casting rule ''safe''",
          "traceback": [
            "\u001b[0;31m---------------------------------------------------------------------------\u001b[0m",
            "\u001b[0;31mTypeError\u001b[0m                                 Traceback (most recent call last)",
            "\u001b[0;32m<ipython-input-147-0047375e16c6>\u001b[0m in \u001b[0;36m<cell line: 0>\u001b[0;34m()\u001b[0m\n\u001b[1;32m      1\u001b[0m \u001b[0;31m# Izracunaj povp do leta 1991\u001b[0m\u001b[0;34m\u001b[0m\u001b[0;34m\u001b[0m\u001b[0m\n\u001b[0;32m----> 2\u001b[0;31m \u001b[0mvrstice\u001b[0m \u001b[0;34m=\u001b[0m \u001b[0;34m(\u001b[0m\u001b[0mvreme\u001b[0m\u001b[0;34m[\u001b[0m\u001b[0;34m'leto'\u001b[0m\u001b[0;34m]\u001b[0m\u001b[0;34m)\u001b[0m \u001b[0;34m<=\u001b[0m \u001b[0;36m1991\u001b[0m \u001b[0;34m&\u001b[0m \u001b[0;34m(\u001b[0m\u001b[0mvreme\u001b[0m\u001b[0;34m[\u001b[0m\u001b[0;34m'Ttla100cm'\u001b[0m\u001b[0;34m]\u001b[0m\u001b[0;34m)\u001b[0m\u001b[0;34m\u001b[0m\u001b[0;34m\u001b[0m\u001b[0m\n\u001b[0m\u001b[1;32m      3\u001b[0m \u001b[0mt100cm\u001b[0m \u001b[0;34m=\u001b[0m \u001b[0mvreme\u001b[0m\u001b[0;34m[\u001b[0m\u001b[0mvrstice\u001b[0m\u001b[0;34m]\u001b[0m\u001b[0;34m[\u001b[0m\u001b[0;34m'Ttla100cm'\u001b[0m\u001b[0;34m]\u001b[0m\u001b[0;34m\u001b[0m\u001b[0;34m\u001b[0m\u001b[0m\n\u001b[1;32m      4\u001b[0m \u001b[0;31m#t100cm.mean()\u001b[0m\u001b[0;34m\u001b[0m\u001b[0;34m\u001b[0m\u001b[0m\n\u001b[1;32m      5\u001b[0m \u001b[0;34m\u001b[0m\u001b[0m\n",
            "\u001b[0;31mTypeError\u001b[0m: ufunc 'bitwise_and' not supported for the input types, and the inputs could not be safely coerced to any supported types according to the casting rule ''safe''"
          ]
        }
      ]
    },
    {
      "cell_type": "code",
      "source": [
        "# Izpis vseh podatkov za temeperautro na 100 cm ko je podatek razlicen on ull\n",
        "vrstice = ~np.isnan(vreme['Ttla100cm'])\n",
        "t100cm = vreme[vrstice]['Ttla100cm']\n",
        "t100cm.mean()\n"
      ],
      "metadata": {
        "colab": {
          "base_uri": "https://localhost:8080/"
        },
        "id": "vkPrFsPrk6Vn",
        "outputId": "33a1af28-18a5-4f61-c4cb-3c2b3405b376"
      },
      "execution_count": 157,
      "outputs": [
        {
          "output_type": "execute_result",
          "data": {
            "text/plain": [
              "np.float64(12.228356430676614)"
            ]
          },
          "metadata": {},
          "execution_count": 157
        }
      ]
    },
    {
      "cell_type": "markdown",
      "source": [],
      "metadata": {
        "id": "sCdUw8OrmC-0"
      }
    },
    {
      "cell_type": "code",
      "source": [
        "import numpy as np\n",
        "riders = np.genfromtxt('RidersSummary.csv', delimiter=',', names=True)\n",
        "riders"
      ],
      "metadata": {
        "colab": {
          "base_uri": "https://localhost:8080/",
          "height": 666
        },
        "id": "1_ttZ9fumBHa",
        "outputId": "e77799b8-7700-4094-c8f4-961b701f4647"
      },
      "execution_count": 161,
      "outputs": [
        {
          "output_type": "error",
          "ename": "ValueError",
          "evalue": "Some errors were detected !\n    Line #59 (got 16 columns instead of 15)\n    Line #73 (got 16 columns instead of 15)\n    Line #74 (got 16 columns instead of 15)\n    Line #75 (got 16 columns instead of 15)\n    Line #87 (got 16 columns instead of 15)\n    Line #135 (got 16 columns instead of 15)\n    Line #148 (got 16 columns instead of 15)\n    Line #149 (got 16 columns instead of 15)\n    Line #150 (got 16 columns instead of 15)\n    Line #168 (got 16 columns instead of 15)\n    Line #169 (got 16 columns instead of 15)\n    Line #220 (got 16 columns instead of 15)\n    Line #222 (got 16 columns instead of 15)\n    Line #223 (got 16 columns instead of 15)\n    Line #224 (got 16 columns instead of 15)\n    Line #225 (got 16 columns instead of 15)\n    Line #226 (got 16 columns instead of 15)\n    Line #227 (got 16 columns instead of 15)\n    Line #228 (got 16 columns instead of 15)\n    Line #244 (got 16 columns instead of 15)",
          "traceback": [
            "\u001b[0;31m---------------------------------------------------------------------------\u001b[0m",
            "\u001b[0;31mValueError\u001b[0m                                Traceback (most recent call last)",
            "\u001b[0;32m<ipython-input-161-ad865daad237>\u001b[0m in \u001b[0;36m<cell line: 0>\u001b[0;34m()\u001b[0m\n\u001b[1;32m      1\u001b[0m \u001b[0;32mimport\u001b[0m \u001b[0mnumpy\u001b[0m \u001b[0;32mas\u001b[0m \u001b[0mnp\u001b[0m\u001b[0;34m\u001b[0m\u001b[0;34m\u001b[0m\u001b[0m\n\u001b[0;32m----> 2\u001b[0;31m \u001b[0mriders\u001b[0m \u001b[0;34m=\u001b[0m \u001b[0mnp\u001b[0m\u001b[0;34m.\u001b[0m\u001b[0mgenfromtxt\u001b[0m\u001b[0;34m(\u001b[0m\u001b[0;34m'RidersSummary.csv'\u001b[0m\u001b[0;34m,\u001b[0m \u001b[0mdelimiter\u001b[0m\u001b[0;34m=\u001b[0m\u001b[0;34m','\u001b[0m\u001b[0;34m,\u001b[0m \u001b[0mnames\u001b[0m\u001b[0;34m=\u001b[0m\u001b[0;32mTrue\u001b[0m\u001b[0;34m)\u001b[0m\u001b[0;34m\u001b[0m\u001b[0;34m\u001b[0m\u001b[0m\n\u001b[0m\u001b[1;32m      3\u001b[0m \u001b[0mriders\u001b[0m\u001b[0;34m\u001b[0m\u001b[0;34m\u001b[0m\u001b[0m\n",
            "\u001b[0;32m/usr/local/lib/python3.11/dist-packages/numpy/lib/_npyio_impl.py\u001b[0m in \u001b[0;36mgenfromtxt\u001b[0;34m(fname, dtype, comments, delimiter, skip_header, skip_footer, converters, missing_values, filling_values, usecols, names, excludelist, deletechars, replace_space, autostrip, case_sensitive, defaultfmt, unpack, usemask, loose, invalid_raise, max_rows, encoding, ndmin, like)\u001b[0m\n\u001b[1;32m   2330\u001b[0m             \u001b[0;31m# Raise an exception ?\u001b[0m\u001b[0;34m\u001b[0m\u001b[0;34m\u001b[0m\u001b[0m\n\u001b[1;32m   2331\u001b[0m             \u001b[0;32mif\u001b[0m \u001b[0minvalid_raise\u001b[0m\u001b[0;34m:\u001b[0m\u001b[0;34m\u001b[0m\u001b[0;34m\u001b[0m\u001b[0m\n\u001b[0;32m-> 2332\u001b[0;31m                 \u001b[0;32mraise\u001b[0m \u001b[0mValueError\u001b[0m\u001b[0;34m(\u001b[0m\u001b[0merrmsg\u001b[0m\u001b[0;34m)\u001b[0m\u001b[0;34m\u001b[0m\u001b[0;34m\u001b[0m\u001b[0m\n\u001b[0m\u001b[1;32m   2333\u001b[0m             \u001b[0;31m# Issue a warning ?\u001b[0m\u001b[0;34m\u001b[0m\u001b[0;34m\u001b[0m\u001b[0m\n\u001b[1;32m   2334\u001b[0m             \u001b[0;32melse\u001b[0m\u001b[0;34m:\u001b[0m\u001b[0;34m\u001b[0m\u001b[0;34m\u001b[0m\u001b[0m\n",
            "\u001b[0;31mValueError\u001b[0m: Some errors were detected !\n    Line #59 (got 16 columns instead of 15)\n    Line #73 (got 16 columns instead of 15)\n    Line #74 (got 16 columns instead of 15)\n    Line #75 (got 16 columns instead of 15)\n    Line #87 (got 16 columns instead of 15)\n    Line #135 (got 16 columns instead of 15)\n    Line #148 (got 16 columns instead of 15)\n    Line #149 (got 16 columns instead of 15)\n    Line #150 (got 16 columns instead of 15)\n    Line #168 (got 16 columns instead of 15)\n    Line #169 (got 16 columns instead of 15)\n    Line #220 (got 16 columns instead of 15)\n    Line #222 (got 16 columns instead of 15)\n    Line #223 (got 16 columns instead of 15)\n    Line #224 (got 16 columns instead of 15)\n    Line #225 (got 16 columns instead of 15)\n    Line #226 (got 16 columns instead of 15)\n    Line #227 (got 16 columns instead of 15)\n    Line #228 (got 16 columns instead of 15)\n    Line #244 (got 16 columns instead of 15)"
          ]
        }
      ]
    }
  ]
}